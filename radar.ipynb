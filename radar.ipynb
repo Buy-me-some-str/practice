{
  "nbformat": 4,
  "nbformat_minor": 0,
  "metadata": {
    "colab": {
      "provenance": [],
      "authorship_tag": "ABX9TyPRzUJAII3nQazdtMIkrPfN",
      "include_colab_link": true
    },
    "kernelspec": {
      "name": "python3",
      "display_name": "Python 3"
    },
    "language_info": {
      "name": "python"
    }
  },
  "cells": [
    {
      "cell_type": "markdown",
      "metadata": {
        "id": "view-in-github",
        "colab_type": "text"
      },
      "source": [
        "<a href=\"https://colab.research.google.com/github/Buy-me-some-str/practice/blob/main/radar.ipynb\" target=\"_parent\"><img src=\"https://colab.research.google.com/assets/colab-badge.svg\" alt=\"Open In Colab\"/></a>"
      ]
    },
    {
      "cell_type": "code",
      "execution_count": 2,
      "metadata": {
        "id": "ki6sZMHFuwH1"
      },
      "outputs": [],
      "source": [
        "import torch"
      ]
    },
    {
      "cell_type": "code",
      "source": [
        "distances1 = torch.tensor([-5, 1, 11, 0.7])\n",
        "distances2 = torch.tensor([-3, 7, 4, 3])\n",
        "radar_coordinates = torch.tensor([[0, 0, 0],\n",
        "                                  [1, 0, 0],\n",
        "                                  [1, 1, 1],\n",
        "                                  [1, 1, 0]])\n",
        "point = torch.tensor([2, 2, 2])\n",
        "distances1 = torch.tensor([(2-0)**2+(2-0)**2+(2-0)**2,\n",
        "                           (2-1)**2+(2-0)**2+(2-0)**2,\n",
        "                           (2-1)**2+(2-1)**2+(2-1)**2,\n",
        "                           (2-1)**2+(2-1)**2+(2-0)**2])\n",
        "distances1"
      ],
      "metadata": {
        "id": "7ipF9Zv7xOiI",
        "colab": {
          "base_uri": "https://localhost:8080/"
        },
        "outputId": "8296577a-0c86-4955-c4e3-8bc4a59dc741"
      },
      "execution_count": 127,
      "outputs": [
        {
          "output_type": "execute_result",
          "data": {
            "text/plain": [
              "tensor([12,  9,  3,  6])"
            ]
          },
          "metadata": {},
          "execution_count": 127
        }
      ]
    },
    {
      "cell_type": "code",
      "source": [
        "def point_coordinates(distances: torch.Tensor, \n",
        "                      radar_coordinates: torch.Tensor)->torch.Tensor:\n",
        "    A = torch.ones(size = (3, 3))\n",
        "    b = torch.ones(size = (3, 1))\n",
        "    for i in range(0, 3):\n",
        "        A[i] = radar_coordinates[i+1]-radar_coordinates[i]\n",
        "        b[i] = (distances[i]**2 - distances[i+1]**2 + sum(radar_coordinates[i]**2) - sum(radar_coordinates[i+1]**2))/2\n",
        "        #print('sum(radar_coordinates[',i+1,']**2)',sum(radar_coordinates[i+1]**2))\n",
        "        print(distances[i])\n",
        "    #print(\"sum\",sum(radar_coordinates[i]**2), radar_coordinates[i], i)\n",
        "    print(A)\n",
        "    print(b)\n",
        "    x = torch.linalg.solve(A, b)\n",
        "    return x.squeeze(dim=1)\n",
        "point_coordinates(distances1, radar_coordinates)"
      ],
      "metadata": {
        "id": "rCEVqyrNxqOH",
        "colab": {
          "base_uri": "https://localhost:8080/"
        },
        "outputId": "46cf9261-bfc6-40b5-9719-00c6d6570a2a"
      },
      "execution_count": 157,
      "outputs": [
        {
          "output_type": "stream",
          "name": "stdout",
          "text": [
            "tensor(12)\n",
            "tensor(9)\n",
            "tensor(3)\n",
            "tensor([[ 1.,  0.,  0.],\n",
            "        [ 0.,  1.,  1.],\n",
            "        [ 0.,  0., -1.]])\n",
            "tensor([[ 31.],\n",
            "        [ 35.],\n",
            "        [-13.]])\n"
          ]
        },
        {
          "output_type": "execute_result",
          "data": {
            "text/plain": [
              "tensor([31., 22., 13.])"
            ]
          },
          "metadata": {},
          "execution_count": 157
        }
      ]
    },
    {
      "cell_type": "code",
      "source": [
        "def checking_coordinates(point:torch.Tensor,distances:torch.Tensor, radar_coordinates:torch.Tensor)->torch.bool:\n",
        "    A = torch.ones(size=(radar_coordinates.shape[0], 1))\n",
        "    for i in range(A.shape[0]):\n",
        "        for j in range(len(point)):\n",
        "            A[i]+=(point[j]-radar_coordinates[i][j])**2\n",
        "            #print(\"(\",point[j],\"-\",radar_coordinates[i][j],\")**2\")\n",
        "        #print(\"\\n\")\n",
        "    flag = True\n",
        "    for i in range(A.shape[0]):\n",
        "        flag = False if A[i]!=distances[i]**2 else True\n",
        "    return flag"
      ],
      "metadata": {
        "id": "-vPCSuw4axvb"
      },
      "execution_count": 131,
      "outputs": []
    },
    {
      "cell_type": "code",
      "source": [
        "checking_coordinates(point1, distances1, radar_coordinates)"
      ],
      "metadata": {
        "colab": {
          "base_uri": "https://localhost:8080/"
        },
        "id": "5qG_-W01ebdC",
        "outputId": "94c403cf-1288-4abe-e9c7-edf94c7d39a9"
      },
      "execution_count": 132,
      "outputs": [
        {
          "output_type": "execute_result",
          "data": {
            "text/plain": [
              "False"
            ]
          },
          "metadata": {},
          "execution_count": 132
        }
      ]
    },
    {
      "cell_type": "code",
      "source": [
        "point1 = point_coordinates(distances=distances1, \n",
        "                          radar_coordinates=radar_coordinates)\n",
        "point2 = point_coordinates(distances=distances2,\n",
        "                          radar_coordinates=radar_coordinates)\n",
        "points = torch.stack((point1, point2))\n",
        "distances = torch.stack((distances1, distances2))\n",
        "points, distances"
      ],
      "metadata": {
        "colab": {
          "base_uri": "https://localhost:8080/"
        },
        "id": "yZYLHwVJyfIn",
        "outputId": "d46a13f5-3301-4141-fd18-31336fb526cb"
      },
      "execution_count": 135,
      "outputs": [
        {
          "output_type": "execute_result",
          "data": {
            "text/plain": [
              "(tensor([[ 32.0000,  23.0000,  14.0000],\n",
              "         [-19.5000,  20.5000,  -3.0000]]), tensor([[12,  9,  3,  6],\n",
              "         [-3,  7,  4,  3]]))"
            ]
          },
          "metadata": {},
          "execution_count": 135
        }
      ]
    },
    {
      "cell_type": "code",
      "source": [
        "def selection_coordinates(distances:torch.Tensor,radar_coordinates:torch.Tensor)->torch.Tensor:\n",
        "    answer = []\n",
        "    iterator = torch.tensor([[0, 0, 0, 0],\n",
        "                             [0, 0, 0, 1],\n",
        "                             [0, 0, 1, 0],\n",
        "                             [0, 0, 1, 1],\n",
        "                             [0, 1, 0, 0],\n",
        "                             [0, 1, 0, 1],\n",
        "                             [0, 1, 1, 0],\n",
        "                             [0, 1, 1, 1],\n",
        "                             [1, 0, 0, 0],\n",
        "                             [1, 0, 0, 1],\n",
        "                             [1, 0, 1, 0],\n",
        "                             [1, 0, 1, 1],\n",
        "                             [1, 1, 0, 0],\n",
        "                             [1, 1, 0, 1],\n",
        "                             [1, 1, 1, 0],\n",
        "                             [1, 1, 1, 1]])\n",
        "    for i in range(iterator.shape[0]):\n",
        "        test_distances = []\n",
        "        for j in range(iterator.shape[1]):\n",
        "            test_distances.append(distances[iterator[i][j]][j])\n",
        "        test_distances = torch.tensor(test_distances)\n",
        "        test_point = point_coordinates(distances=test_distances,\n",
        "                                       radar_coordinates=radar_coordinates)\n",
        "        if checking_coordinates(point=test_point,\n",
        "                                distances=test_distances,\n",
        "                                radar_coordinates=radar_coordinates):\n",
        "            answer.append(test_distances)\n",
        "    return torch.tensor(answer)\n",
        "selection_coordinates(distances, radar_coordinates)"
      ],
      "metadata": {
        "colab": {
          "base_uri": "https://localhost:8080/"
        },
        "id": "46_SDeesXlDW",
        "outputId": "0e1bdd2f-679d-4375-efdf-600f2cc420b0"
      },
      "execution_count": 136,
      "outputs": [
        {
          "output_type": "execute_result",
          "data": {
            "text/plain": [
              "tensor([])"
            ]
          },
          "metadata": {},
          "execution_count": 136
        }
      ]
    },
    {
      "cell_type": "code",
      "source": [],
      "metadata": {
        "id": "CYY60bt8C3TM"
      },
      "execution_count": null,
      "outputs": []
    }
  ]
}