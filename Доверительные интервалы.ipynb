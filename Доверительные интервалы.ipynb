{
 "cells": [
  {
   "cell_type": "code",
   "execution_count": 2,
   "id": "ef48b131",
   "metadata": {},
   "outputs": [],
   "source": [
    "import numpy as np\n",
    "import statistics as st\n",
    "import scipy.stats as st1\n",
    "import matplotlib.pyplot as plt\n",
    "import math\n",
    "from scipy.stats import norm"
   ]
  },
  {
   "cell_type": "code",
   "execution_count": 3,
   "id": "f99bfb27",
   "metadata": {
    "scrolled": true
   },
   "outputs": [],
   "source": [
    "data = np.loadtxt(\"C:/Users/Danila/Desktop/Статистика/1.txt\", delimiter='\\n', dtype=np.float64)"
   ]
  },
  {
   "cell_type": "code",
   "execution_count": 7,
   "id": "447a9e39",
   "metadata": {},
   "outputs": [],
   "source": [
    "Xv = np.mean(data)\n",
    "Sv = np.std(data)"
   ]
  },
  {
   "cell_type": "code",
   "execution_count": 8,
   "id": "c84135ba",
   "metadata": {},
   "outputs": [
    {
     "name": "stdout",
     "output_type": "stream",
     "text": [
      "32.00006845066679 5.11208052399414\n"
     ]
    }
   ],
   "source": [
    "print(Xv, Sv)"
   ]
  },
  {
   "cell_type": "code",
   "execution_count": 49,
   "id": "27263f71",
   "metadata": {},
   "outputs": [],
   "source": [
    "c = np.array([-1,1])\n",
    "x0_95 = 1.96\n",
    "interval_norm = Xv + c*Sv*x0_95/len(data)**0.5\n",
    "gamma = 0.95\n",
    "ct = np.array([(1-gamma)/2,(1+gamma)/2])\n",
    "interval_t = Xv + (st1.t.ppf(ct, len(data)-1)*Sv/len(data)**0.5)"
   ]
  },
  {
   "cell_type": "code",
   "execution_count": 50,
   "id": "2948ce27",
   "metadata": {},
   "outputs": [
    {
     "data": {
      "text/plain": [
       "<matplotlib.legend.Legend at 0x193d0122ca0>"
      ]
     },
     "execution_count": 50,
     "metadata": {},
     "output_type": "execute_result"
    },
    {
     "data": {
      "image/png": "[encoded data removed]",
      "text/plain": [
       "<Figure size 432x288 with 1 Axes>"
      ]
     },
     "metadata": {
      "needs_background": "light"
     },
     "output_type": "display_data"
    }
   ],
   "source": [
    "plt.plot(interval_norm, [0, 0], c = \"g\",\n",
    "         label = \"Доверительный интервал для средневыборочного\",\n",
    "        linewidth = 5)\n",
    "plt.vlines(interval_norm, ymin = 0, ymax = 25, colors = \"g\")\n",
    "plt.scatter(Xv, 0, c = \"y\", linewidths = 10, label = \"среднее выоборочное\")\n",
    "plt.legend()"
   ]
  },
  {
   "cell_type": "code",
   "execution_count": 51,
   "id": "5af0c267",
   "metadata": {},
   "outputs": [
    {
     "data": {
      "text/plain": [
       "<matplotlib.collections.LineCollection at 0x193cff3bf40>"
      ]
     },
     "execution_count": 51,
     "metadata": {},
     "output_type": "execute_result"
    },
    {
     "data": {
      "image/png": "[encoded data removed]",
      "text/plain": [
       "<Figure size 432x288 with 1 Axes>"
      ]
     },
     "metadata": {
      "needs_background": "light"
     },
     "output_type": "display_data"
    }
   ],
   "source": [
    "plt.vlines(interval_t, ymin = 0, ymax = 25, colors = \"red\")\n",
    "plt.vlines(interval_norm, ymin = 0, ymax = 25, linestyle = \"dotted\", colors = \"k\")"
   ]
  },
  {
   "cell_type": "markdown",
   "id": "2e28c90a",
   "metadata": {},
   "source": [
    "доверительный интервал среднего квадрата отклонения"
   ]
  },
  {
   "cell_type": "code",
   "execution_count": 12,
   "id": "90d56b93",
   "metadata": {},
   "outputs": [],
   "source": [
    "cq = np.array([(1+gamma)/2,(1-gamma)/2])"
   ]
  },
  {
   "cell_type": "code",
   "execution_count": 13,
   "id": "f48fec5a",
   "metadata": {},
   "outputs": [
    {
     "data": {
      "text/plain": [
       "array([4.48844169, 5.93857745])"
      ]
     },
     "execution_count": 13,
     "metadata": {},
     "output_type": "execute_result"
    }
   ],
   "source": [
    "interval_qsm = (Sv*(len(data)-1)**0.5)/(st1.chi2.ppf(cq, len(data)-1))**0.5\n",
    "interval_qsm"
   ]
  },
  {
   "cell_type": "code",
   "execution_count": null,
   "id": "4caf885c",
   "metadata": {},
   "outputs": [],
   "source": []
  },
  {
   "cell_type": "code",
   "execution_count": null,
   "id": "4f7721b1",
   "metadata": {},
   "outputs": [],
   "source": []
  },
  {
   "cell_type": "code",
   "execution_count": null,
   "id": "6116ad36",
   "metadata": {},
   "outputs": [],
   "source": []
  }
 ],
 "metadata": {
  "kernelspec": {
   "display_name": "Python 3 (ipykernel)",
   "language": "python",
   "name": "python3"
  },
  "language_info": {
   "codemirror_mode": {
    "name": "ipython",
    "version": 3
   },
   "file_extension": ".py",
   "mimetype": "text/x-python",
   "name": "python",
   "nbconvert_exporter": "python",
   "pygments_lexer": "ipython3",
   "version": "3.9.12"
  }
 },
 "nbformat": 4,
 "nbformat_minor": 5
}
