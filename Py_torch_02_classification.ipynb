{
  "nbformat": 4,
  "nbformat_minor": 0,
  "metadata": {
    "colab": {
      "provenance": [],
      "authorship_tag": "ABX9TyOr8cv3Rv3khIGw3AI5aFIk",
      "include_colab_link": true
    },
    "kernelspec": {
      "name": "python3",
      "display_name": "Python 3"
    },
    "language_info": {
      "name": "python"
    },
    "accelerator": "GPU",
    "gpuClass": "standard"
  },
  "cells": [
    {
      "cell_type": "markdown",
      "metadata": {
        "id": "view-in-github",
        "colab_type": "text"
      },
      "source": [
        "<a href=\"https://colab.research.google.com/github/Buy-me-some-str/practice/blob/main/Py_torch_02_classification.ipynb\" target=\"_parent\"><img src=\"https://colab.research.google.com/assets/colab-badge.svg\" alt=\"Open In Colab\"/></a>"
      ]
    },
    {
      "cell_type": "code",
      "execution_count": 2,
      "metadata": {
        "id": "KFKczrImyapp"
      },
      "outputs": [],
      "source": [
        "import torch\n",
        "from torch import nn\n",
        "import numpy as np\n",
        "import pandas as pd\n",
        "import matplotlib.pyplot as plt "
      ]
    },
    {
      "cell_type": "markdown",
      "source": [
        "### Классификация Pytorch"
      ],
      "metadata": {
        "id": "6IKbmUZZHJRN"
      }
    },
    {
      "cell_type": "code",
      "source": [
        "#1.import data\n",
        "from sklearn.datasets import make_circles"
      ],
      "metadata": {
        "id": "h0XFwzk-DHCi"
      },
      "execution_count": 3,
      "outputs": []
    },
    {
      "cell_type": "code",
      "source": [
        "n_samples = 1000\n",
        "X, y = make_circles(n_samples,\n",
        "                    noise=0.03,\n",
        "                    random_state=42)"
      ],
      "metadata": {
        "id": "_ca4Hfn7HN4U"
      },
      "execution_count": 4,
      "outputs": []
    },
    {
      "cell_type": "code",
      "source": [
        "print(\"X:\",X[:5], \"y:\",y[:5])"
      ],
      "metadata": {
        "colab": {
          "base_uri": "https://localhost:8080/"
        },
        "id": "uAnu3aovHN7o",
        "outputId": "8668632b-86d9-4f58-dce1-7eac3951a347"
      },
      "execution_count": 5,
      "outputs": [
        {
          "output_type": "stream",
          "name": "stdout",
          "text": [
            "X: [[ 0.75424625  0.23148074]\n",
            " [-0.75615888  0.15325888]\n",
            " [-0.81539193  0.17328203]\n",
            " [-0.39373073  0.69288277]\n",
            " [ 0.44220765 -0.89672343]] y: [1 1 1 1 0]\n"
          ]
        }
      ]
    },
    {
      "cell_type": "code",
      "source": [
        "circles = pd.DataFrame({\"X1\":X[:, 0], \n",
        "                        \"X2\":X[:, 1],\n",
        "                        \"label\": y})"
      ],
      "metadata": {
        "id": "yLbAILvAHN-q"
      },
      "execution_count": 6,
      "outputs": []
    },
    {
      "cell_type": "code",
      "source": [
        "plt.figure(figsize=(5, 3))\n",
        "plt.scatter(x=circles.X1,\n",
        "            y=circles.X2,\n",
        "            c=circles.label,\n",
        "            cmap=plt.cm.RdYlBu)"
      ],
      "metadata": {
        "colab": {
          "base_uri": "https://localhost:8080/",
          "height": 228
        },
        "id": "VH4csPGcHOB8",
        "outputId": "1dc0dd9e-ee04-4f63-b040-3709fd019552"
      },
      "execution_count": 7,
      "outputs": [
        {
          "output_type": "execute_result",
          "data": {
            "text/plain": [
              "<matplotlib.collections.PathCollection at 0x7f7ca99d6a90>"
            ]
          },
          "metadata": {},
          "execution_count": 7
        },
        {
          "output_type": "display_data",
          "data": {
            "text/plain": [
              "<Figure size 360x216 with 1 Axes>"
            ],
            "image/png": "[encoded data removed]"
          },
          "metadata": {
            "needs_background": "light"
          }
        }
      ]
    },
    {
      "cell_type": "code",
      "source": [
        "#1.1 размерности\n",
        "X.shape, y.shape\n",
        "X.dtype"
      ],
      "metadata": {
        "colab": {
          "base_uri": "https://localhost:8080/"
        },
        "id": "GCQhO_99HOEw",
        "outputId": "a1d361f5-fd7b-4476-ae1c-2093c40d5663"
      },
      "execution_count": 8,
      "outputs": [
        {
          "output_type": "execute_result",
          "data": {
            "text/plain": [
              "dtype('float64')"
            ]
          },
          "metadata": {},
          "execution_count": 8
        }
      ]
    },
    {
      "cell_type": "code",
      "source": [
        "#1.2 тензоры\n",
        "X = torch.from_numpy(X).type(torch.float)\n",
        "y = torch.from_numpy(y).type(torch.float)"
      ],
      "metadata": {
        "id": "z7tzhkq0JRX3"
      },
      "execution_count": 9,
      "outputs": []
    },
    {
      "cell_type": "code",
      "source": [
        "#1.3 разбиение\n",
        "from sklearn.model_selection import train_test_split\n",
        "\n",
        "X_train, X_test, y_train, y_test = train_test_split(X, \n",
        "                                                    y, \n",
        "                                                    test_size = 0.2,\n",
        "                                                    random_state = 42)"
      ],
      "metadata": {
        "id": "ECw9PCEkJL1E"
      },
      "execution_count": 10,
      "outputs": []
    },
    {
      "cell_type": "code",
      "source": [
        "len(X_train), len(y_test)"
      ],
      "metadata": {
        "colab": {
          "base_uri": "https://localhost:8080/"
        },
        "id": "MrI7QOqfL1Z6",
        "outputId": "111dfbca-d3c7-40cf-b80f-0a080ef7fd7e"
      },
      "execution_count": 11,
      "outputs": [
        {
          "output_type": "execute_result",
          "data": {
            "text/plain": [
              "(800, 200)"
            ]
          },
          "metadata": {},
          "execution_count": 11
        }
      ]
    },
    {
      "cell_type": "code",
      "source": [
        "#2 построение модели\n",
        "device = \"cuda\" if torch.cuda.is_available else \"cpu\"\n",
        "device"
      ],
      "metadata": {
        "colab": {
          "base_uri": "https://localhost:8080/",
          "height": 35
        },
        "id": "TA8zgiReL6tJ",
        "outputId": "773c6f2b-9e1c-4e77-a42a-3b1ccaf1c2ae"
      },
      "execution_count": 12,
      "outputs": [
        {
          "output_type": "execute_result",
          "data": {
            "text/plain": [
              "'cuda'"
            ],
            "application/vnd.google.colaboratory.intrinsic+json": {
              "type": "string"
            }
          },
          "metadata": {},
          "execution_count": 12
        }
      ]
    },
    {
      "cell_type": "code",
      "source": [
        "class CircleModelV0(nn.Module):\n",
        "    def __init__(self):\n",
        "        super().__init__()\n",
        "        self.layer_1 = nn.Linear(in_features=2,\n",
        "                                 out_features=5)\n",
        "        self.layer_2 = nn.Linear(in_features=5,\n",
        "                                 out_features=1)\n",
        "    def forward(self, x):\n",
        "        return self.layer_2(self.layer_1(x))"
      ],
      "metadata": {
        "id": "Myalxf0cMW0X"
      },
      "execution_count": 13,
      "outputs": []
    },
    {
      "cell_type": "code",
      "source": [
        "model_0 = CircleModelV0()\n",
        "model_0 = model_0.to(device)"
      ],
      "metadata": {
        "id": "8dFJQGD6ODWz"
      },
      "execution_count": 14,
      "outputs": []
    },
    {
      "cell_type": "code",
      "source": [
        "model_0.state_dict()"
      ],
      "metadata": {
        "colab": {
          "base_uri": "https://localhost:8080/"
        },
        "id": "_VNpSLpSOPJ4",
        "outputId": "9e83d8e3-a746-4ab2-bfd3-d95ad3582416"
      },
      "execution_count": 15,
      "outputs": [
        {
          "output_type": "execute_result",
          "data": {
            "text/plain": [
              "OrderedDict([('layer_1.weight', tensor([[ 0.6572,  0.3412],\n",
              "                      [-0.4538,  0.5638],\n",
              "                      [ 0.1809,  0.0467],\n",
              "                      [ 0.6653,  0.5977],\n",
              "                      [-0.5059, -0.3329]], device='cuda:0')),\n",
              "             ('layer_1.bias',\n",
              "              tensor([ 0.5858, -0.0175,  0.3021,  0.2048, -0.3392], device='cuda:0')),\n",
              "             ('layer_2.weight',\n",
              "              tensor([[ 0.4453, -0.2279,  0.3171, -0.3802, -0.1166]], device='cuda:0')),\n",
              "             ('layer_2.bias', tensor([0.0777], device='cuda:0'))])"
            ]
          },
          "metadata": {},
          "execution_count": 15
        }
      ]
    },
    {
      "cell_type": "code",
      "source": [
        "model_0 = nn.Sequential(\n",
        "    nn.Linear(in_features=2, \n",
        "              out_features=15),\n",
        "    nn.Linear(in_features=15, \n",
        "              out_features=1)\n",
        ").to(device)\n",
        "\n",
        "model_0"
      ],
      "metadata": {
        "colab": {
          "base_uri": "https://localhost:8080/"
        },
        "id": "ZUWLA1XWPQkQ",
        "outputId": "4d1acb05-af0a-4712-9abc-aa007c7b7300"
      },
      "execution_count": 43,
      "outputs": [
        {
          "output_type": "execute_result",
          "data": {
            "text/plain": [
              "Sequential(\n",
              "  (0): Linear(in_features=2, out_features=15, bias=True)\n",
              "  (1): Linear(in_features=15, out_features=1, bias=True)\n",
              ")"
            ]
          },
          "metadata": {},
          "execution_count": 43
        }
      ]
    },
    {
      "cell_type": "code",
      "source": [
        "with torch.inference_mode():\n",
        "    untrained_preds = model_0(X_test.to(device))\n",
        "    print(untrained_preds[:5].squeeze(dim=1), y_test[:5])"
      ],
      "metadata": {
        "colab": {
          "base_uri": "https://localhost:8080/"
        },
        "id": "JR8BNcybRoRO",
        "outputId": "86f08e4b-db9a-4b12-ace5-fb0223b1a223"
      },
      "execution_count": 44,
      "outputs": [
        {
          "output_type": "stream",
          "name": "stdout",
          "text": [
            "tensor([ 0.1266, -0.0089,  0.0427,  0.1522, -0.6542], device='cuda:0') tensor([1., 0., 1., 0., 1.], device='cuda:0')\n"
          ]
        }
      ]
    },
    {
      "cell_type": "code",
      "source": [
        "#2.1 функция потерь (с автоматической сигмоидной активацией)\n",
        "loss_fn = torch.nn.BCEWithLogitsLoss()\n",
        "##nn.BCEWithLogitLoss() = nn.Sequential(\n",
        "##      nn.Sigmoid(),\n",
        "##      nn.BCELoss()\n",
        "##)\n",
        "#2.2 оптимизатор (SGD, Adam)\n",
        "optim = torch.optim.SGD(params=model_0.parameters(),\n",
        "                         lr=0.01)\n",
        "#оптимизатор оптимизирует параметры из model_0.parameters()\n",
        "model_0.state_dict()"
      ],
      "metadata": {
        "colab": {
          "base_uri": "https://localhost:8080/"
        },
        "id": "YHLJZCpoTan-",
        "outputId": "cc68ead8-e297-4f55-e3a5-f8ccf7523c30"
      },
      "execution_count": 45,
      "outputs": [
        {
          "output_type": "execute_result",
          "data": {
            "text/plain": [
              "OrderedDict([('0.weight', tensor([[ 0.5406,  0.5869],\n",
              "                      [-0.1657,  0.6496],\n",
              "                      [-0.1549,  0.1427],\n",
              "                      [-0.3443,  0.4153],\n",
              "                      [ 0.6233, -0.5188],\n",
              "                      [ 0.6146,  0.1323],\n",
              "                      [ 0.5224,  0.0958],\n",
              "                      [ 0.3410, -0.0998],\n",
              "                      [ 0.5451,  0.1045],\n",
              "                      [-0.3301,  0.1802],\n",
              "                      [-0.3258, -0.0829],\n",
              "                      [-0.2872,  0.4691],\n",
              "                      [-0.5582, -0.3260],\n",
              "                      [-0.1997, -0.4252],\n",
              "                      [ 0.0667, -0.6984]], device='cuda:0')),\n",
              "             ('0.bias',\n",
              "              tensor([ 0.6386, -0.6007,  0.5459,  0.1177, -0.2296,  0.4370,  0.1102,  0.5713,\n",
              "                       0.0773, -0.2230,  0.1900, -0.1918,  0.2976,  0.6313,  0.4087],\n",
              "                     device='cuda:0')),\n",
              "             ('1.weight',\n",
              "              tensor([[-0.1129,  0.1490,  0.0462,  0.1311, -0.1574, -0.2556, -0.0998, -0.1980,\n",
              "                        0.2119,  0.0744,  0.1069,  0.0817, -0.0045,  0.2021, -0.1835]],\n",
              "                     device='cuda:0')),\n",
              "             ('1.bias', tensor([0.0163], device='cuda:0'))])"
            ]
          },
          "metadata": {},
          "execution_count": 45
        }
      ]
    },
    {
      "cell_type": "code",
      "source": [
        "def accuracy_fn(y_true, y_pred):\n",
        "    correct = torch.eq(y_true, y_pred).sum().item()\n",
        "    #item() - из тензора делает число\n",
        "    accuracy = (correct/len(y_pred))*100\n",
        "    return accuracy\n",
        "untrained_preds_probs = torch.sigmoid(untrained_preds.cpu())\n",
        "accuracy_fn(y_train.cpu(), torch.round(untrained_preds_probs.cpu()))"
      ],
      "metadata": {
        "colab": {
          "base_uri": "https://localhost:8080/"
        },
        "id": "1NwyOaAs9y2g",
        "outputId": "18bb6fbc-5e4d-4fe3-fa57-4ef2ba1515ed"
      },
      "execution_count": 46,
      "outputs": [
        {
          "output_type": "execute_result",
          "data": {
            "text/plain": [
              "40000.0"
            ]
          },
          "metadata": {},
          "execution_count": 46
        }
      ]
    },
    {
      "cell_type": "code",
      "source": [
        "#logits_>pred_prob->label"
      ],
      "metadata": {
        "id": "RWmx27xJEQNB"
      },
      "execution_count": 47,
      "outputs": []
    },
    {
      "cell_type": "code",
      "source": [
        "#3.Тренировочный цикл\n",
        "torch.manual_seed(42)\n",
        "torch.cuda.manual_seed(42)\n",
        "epochs = 1000\n",
        "loss_value = []\n",
        "test_loss_value = []\n",
        "count_epochs = []"
      ],
      "metadata": {
        "id": "FVPftFRP_3jC"
      },
      "execution_count": 48,
      "outputs": []
    },
    {
      "cell_type": "code",
      "source": [
        "X_train = X_train.to(device)\n",
        "y_train = y_train.to(device)\n",
        "X_test = X_test.to(device)\n",
        "y_test = y_test.to(device)"
      ],
      "metadata": {
        "id": "df3xUO7SCGW7"
      },
      "execution_count": 49,
      "outputs": []
    },
    {
      "cell_type": "code",
      "source": [
        "for epoch in range(epochs):\n",
        "    model_0.train()\n",
        "    y_logits = model_0.forward(X_train).squeeze() #-1 измерение\n",
        "    y_pred = torch.round(torch.sigmoid(y_logits))\n",
        "    \n",
        "    loss = loss_fn(y_logits, y_train)\n",
        "    accuracy = accuracy_fn(y_true=y_train,\n",
        "                           y_pred=y_pred)\n",
        "    optim.zero_grad()\n",
        "    loss.backward()\n",
        "    optim.step()\n",
        "    model_0.eval()\n",
        "    with torch.inference_mode():\n",
        "        test_logits = model_0(X_test).squeeze()\n",
        "        test_pred = torch.round(torch.sigmoid(test_logits))\n",
        "        test_loss = loss_fn(test_logits,\n",
        "                            y_test)\n",
        "        test_accuracy = accuracy_fn(y_true=y_test,\n",
        "                                  y_pred=test_pred)\n",
        "    if epoch%10==0:\n",
        "        count_epochs.append(epoch)\n",
        "        loss_value.append(accuracy)\n",
        "        test_loss_value.append(test_accuracy)"
      ],
      "metadata": {
        "id": "tzUGkd_GA3sr"
      },
      "execution_count": 50,
      "outputs": []
    },
    {
      "cell_type": "code",
      "source": [
        "with torch.inference_mode():\n",
        "    test_pred_logits = model_0.forward(X_test).squeeze()"
      ],
      "metadata": {
        "id": "nfOpbvVNF0jz"
      },
      "execution_count": 51,
      "outputs": []
    },
    {
      "cell_type": "code",
      "source": [
        "test_pred_probs = torch.sigmoid(test_pred_logits)\n",
        "test_pred = torch.round(test_pred_probs)\n",
        "X_test = X_test.to('cpu')\n",
        "test_pred = test_pred.to('cpu')"
      ],
      "metadata": {
        "id": "eEOgv9-qqPSB"
      },
      "execution_count": 52,
      "outputs": []
    },
    {
      "cell_type": "code",
      "source": [
        "X_test.device, test_pred.device"
      ],
      "metadata": {
        "colab": {
          "base_uri": "https://localhost:8080/"
        },
        "id": "umvGDzS6rDP_",
        "outputId": "b44ff136-5293-4bbd-c8aa-239183dba402"
      },
      "execution_count": 53,
      "outputs": [
        {
          "output_type": "execute_result",
          "data": {
            "text/plain": [
              "(device(type='cpu'), device(type='cpu'))"
            ]
          },
          "metadata": {},
          "execution_count": 53
        }
      ]
    },
    {
      "cell_type": "code",
      "source": [
        "plt.scatter(X_test[:,0], \n",
        "            X_test[:,1], \n",
        "            c = test_pred)"
      ],
      "metadata": {
        "colab": {
          "base_uri": "https://localhost:8080/",
          "height": 282
        },
        "id": "vpRc58T9IQfQ",
        "outputId": "44c8b7bb-e749-49f9-bfda-7abe79d09555"
      },
      "execution_count": 54,
      "outputs": [
        {
          "output_type": "execute_result",
          "data": {
            "text/plain": [
              "<matplotlib.collections.PathCollection at 0x7f7ca9eaad60>"
            ]
          },
          "metadata": {},
          "execution_count": 54
        },
        {
          "output_type": "display_data",
          "data": {
            "text/plain": [
              "<Figure size 432x288 with 1 Axes>"
            ],
            "image/png": "[encoded data removed]"
          },
          "metadata": {
            "needs_background": "light"
          }
        }
      ]
    },
    {
      "cell_type": "code",
      "source": [],
      "metadata": {
        "id": "UPr0jih-rCgv"
      },
      "execution_count": 54,
      "outputs": []
    },
    {
      "cell_type": "code",
      "source": [],
      "metadata": {
        "id": "w2ECsToyp_BD"
      },
      "execution_count": 54,
      "outputs": []
    }
  ]
}