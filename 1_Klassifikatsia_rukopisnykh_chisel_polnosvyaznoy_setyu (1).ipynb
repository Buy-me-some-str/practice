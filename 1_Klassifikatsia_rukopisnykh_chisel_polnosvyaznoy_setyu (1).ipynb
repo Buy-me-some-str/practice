{
  "cells": [
    {
      "cell_type": "code",
      "execution_count": 76,
      "metadata": {
        "id": "ukjTXSOE6yht"
      },
      "outputs": [],
      "source": [
        "import torch as th\n",
        "import numpy as np\n",
        "import random\n",
        "import matplotlib.pyplot as plt\n",
        "import pandas as pd\n",
        "from sklearn.metrics import accuracy_score\n",
        "\n",
        "#сделаем инициализацию random seed, \n",
        "#чтобы наши эксперименты были воспроизводимы\n",
        "\n",
        "random.seed(0)\n",
        "np.random.seed(0)\n",
        "th.manual_seed(0)\n",
        "th.cuda.manual_seed(0)\n",
        "th.backends.cudnn.deterministic=True"
      ]
    },
    {
      "cell_type": "code",
      "execution_count": 77,
      "metadata": {
        "id": "mnze1dsy759S"
      },
      "outputs": [],
      "source": [
        "#скачивание датасета для классификации изображений\n",
        "import torchvision.datasets\n",
        "\n",
        "MNIST_train = torchvision.datasets.MNIST('./', download = True, train = True)\n",
        "MNIST_test = torchvision.datasets.MNIST('./', download = True, train = False)"
      ]
    },
    {
      "cell_type": "code",
      "execution_count": 78,
      "metadata": {
        "colab": {
          "base_uri": "https://localhost:8080/"
        },
        "id": "D17O66_Y8XVd",
        "outputId": "1fcb5b8f-742e-4761-e6fd-2dd85a3cfeff"
      },
      "outputs": [
        {
          "output_type": "stream",
          "name": "stderr",
          "text": [
            "/usr/local/lib/python3.8/dist-packages/torchvision/datasets/mnist.py:75: UserWarning: train_data has been renamed data\n",
            "  warnings.warn(\"train_data has been renamed data\")\n",
            "/usr/local/lib/python3.8/dist-packages/torchvision/datasets/mnist.py:65: UserWarning: train_labels has been renamed targets\n",
            "  warnings.warn(\"train_labels has been renamed targets\")\n",
            "/usr/local/lib/python3.8/dist-packages/torchvision/datasets/mnist.py:80: UserWarning: test_data has been renamed data\n",
            "  warnings.warn(\"test_data has been renamed data\")\n",
            "/usr/local/lib/python3.8/dist-packages/torchvision/datasets/mnist.py:70: UserWarning: test_labels has been renamed targets\n",
            "  warnings.warn(\"test_labels has been renamed targets\")\n"
          ]
        }
      ],
      "source": [
        "X_train = MNIST_train.train_data\n",
        "y_train = MNIST_train.train_labels\n",
        "X_test = MNIST_test.test_data\n",
        "y_test = MNIST_test.test_labels\n"
      ]
    },
    {
      "cell_type": "code",
      "source": [
        "y_train"
      ],
      "metadata": {
        "colab": {
          "base_uri": "https://localhost:8080/"
        },
        "id": "QvFwHtQQ7pHh",
        "outputId": "5c69bc69-3b17-4355-a8b7-98b3b79b52b2"
      },
      "execution_count": 79,
      "outputs": [
        {
          "output_type": "execute_result",
          "data": {
            "text/plain": [
              "tensor([5, 0, 4,  ..., 5, 6, 8])"
            ]
          },
          "metadata": {},
          "execution_count": 79
        }
      ]
    },
    {
      "cell_type": "code",
      "source": [
        "pd_y_train = pd.DataFrame(MNIST_train.train_labels, columns = [\"o\"]) "
      ],
      "metadata": {
        "id": "245Y-MH7NL2w",
        "colab": {
          "base_uri": "https://localhost:8080/"
        },
        "outputId": "daecc8f7-6744-4145-bcf8-317d7ea6676a"
      },
      "execution_count": 80,
      "outputs": [
        {
          "output_type": "stream",
          "name": "stderr",
          "text": [
            "/usr/local/lib/python3.8/dist-packages/torchvision/datasets/mnist.py:65: UserWarning: train_labels has been renamed targets\n",
            "  warnings.warn(\"train_labels has been renamed targets\")\n"
          ]
        }
      ]
    },
    {
      "cell_type": "code",
      "source": [],
      "metadata": {
        "id": "UWLWCjpt7oZs"
      },
      "execution_count": 80,
      "outputs": []
    },
    {
      "cell_type": "code",
      "source": [
        "pd_y_train.groupby([\"o\"]).size()/len(pd_y_train)*100\n",
        "#Классы сбалансирвоанны"
      ],
      "metadata": {
        "colab": {
          "base_uri": "https://localhost:8080/"
        },
        "id": "L-qc_lUuXkbl",
        "outputId": "623ae65f-8179-4c6a-e6d4-190d1875c4d5"
      },
      "execution_count": 81,
      "outputs": [
        {
          "output_type": "execute_result",
          "data": {
            "text/plain": [
              "o\n",
              "0     9.871667\n",
              "1    11.236667\n",
              "2     9.930000\n",
              "3    10.218333\n",
              "4     9.736667\n",
              "5     9.035000\n",
              "6     9.863333\n",
              "7    10.441667\n",
              "8     9.751667\n",
              "9     9.915000\n",
              "dtype: float64"
            ]
          },
          "metadata": {},
          "execution_count": 81
        }
      ]
    },
    {
      "cell_type": "code",
      "execution_count": 82,
      "metadata": {
        "colab": {
          "base_uri": "https://localhost:8080/"
        },
        "id": "APx5M9L_9JmE",
        "outputId": "2e6c5b29-af27-42aa-bd89-d59b80d3ed28"
      },
      "outputs": [
        {
          "output_type": "execute_result",
          "data": {
            "text/plain": [
              "(torch.uint8, torch.int64)"
            ]
          },
          "metadata": {},
          "execution_count": 82
        }
      ],
      "source": [
        "#посмотрим какой у данных тип\n",
        "X_train.dtype, y_train.dtype"
      ]
    },
    {
      "cell_type": "code",
      "execution_count": 83,
      "metadata": {
        "id": "g2AQpB3t9RL-"
      },
      "outputs": [],
      "source": [
        "#данные имеют тип беззнаковый 8, а таргеты - целые 64 бита\n",
        "#преобразуем сразу данные в веществиенный тип\n",
        "X_train = X_train.float()\n",
        "X_test = X_test.float()"
      ]
    },
    {
      "cell_type": "code",
      "execution_count": 84,
      "metadata": {
        "colab": {
          "base_uri": "https://localhost:8080/"
        },
        "id": "SzTDAw5t9mdb",
        "outputId": "88c1f20c-f01e-4c7e-963f-6b7ec604be78"
      },
      "outputs": [
        {
          "output_type": "execute_result",
          "data": {
            "text/plain": [
              "(torch.Size([60000, 28, 28]), torch.Size([10000, 28, 28]))"
            ]
          },
          "metadata": {},
          "execution_count": 84
        }
      ],
      "source": [
        "#посмотрим на расзмерность датасетов\n",
        "X_train.shape, X_test.shape\n",
        "#это очень маленькие картинки, именно поэтому мы можем использовать\n",
        "#полносвязную нейронную сеть для такой задачи, а не сверточные сети"
      ]
    },
    {
      "cell_type": "code",
      "execution_count": 85,
      "metadata": {
        "colab": {
          "base_uri": "https://localhost:8080/"
        },
        "id": "N09Kwd269vwF",
        "outputId": "513ab991-520d-449f-a905-63d6be37962a",
        "scrolled": true
      },
      "outputs": [
        {
          "output_type": "execute_result",
          "data": {
            "text/plain": [
              "(torch.Size([60000]), torch.Size([10000]))"
            ]
          },
          "metadata": {},
          "execution_count": 85
        }
      ],
      "source": [
        "y_train.shape, y_test.shape"
      ]
    },
    {
      "cell_type": "code",
      "execution_count": 86,
      "metadata": {
        "id": "51sBbxg1AOug"
      },
      "outputs": [],
      "source": [
        "#у нас трезмерный тензор, мы хотим двумерный тензор, \n",
        "#чтобы первая рамерность сохранилась, то есть 60000 картинок\n",
        "#вместо 28 и 28 будет 764 пикселя\n",
        "\n",
        "X_train = X_train.reshape([-1, 28*28])\n",
        "\n",
        "X_test = X_test.reshape([-1, 28*28])\n",
        "\n",
        "y_new_train = th.zeros(len(y_train), 10)\n",
        "for i in range(0, len(y_train)):\n",
        "  y_new_train[i, y_train[i]] = 1\n",
        "y_new_test = th.zeros(len(y_test), 10)\n",
        "for i in range(0, len(y_test)):\n",
        "  y_new_test[i, y_test[i]] = 1"
      ]
    },
    {
      "cell_type": "code",
      "execution_count": 87,
      "metadata": {
        "id": "rBCCAbFXB5X6"
      },
      "outputs": [],
      "source": [
        "#Создание сети\n",
        "# на выходе у нас числа от 0 до 9\n",
        "class MNISTnet(th.nn.Module):\n",
        "  def __init__(self):\n",
        "    super (MNISTnet, self).__init__()\n",
        "    self.fc1 = th.nn.Linear(28**2, 256)\n",
        "    self.act1 = th.nn.ReLU()\n",
        "    self.fc2 = th.nn.Linear(256, 128)\n",
        "    self.act2 = th.nn.Sigmoid()\n",
        "    self.sm = th.nn.Softmax(dim = 1)\n",
        "    self.fc3 = th.nn.Linear(128, 10)\n",
        "  def forward(self, x):\n",
        "    x = self.fc1(x)\n",
        "    x = self.act1(x)\n",
        "    x = self.fc2(x)\n",
        "    x = self.act2(x)\n",
        "    x = self.fc3(x)\n",
        "    return x\n",
        "  def predict(self, x):\n",
        "    x = self.forward(x)\n",
        "    print(x)\n",
        "    x.self.sm(x)\n",
        "    return x\n"
      ]
    },
    {
      "cell_type": "code",
      "source": [
        "net = MNISTnet()"
      ],
      "metadata": {
        "id": "IFSdoWSGUg-u"
      },
      "execution_count": 88,
      "outputs": []
    },
    {
      "cell_type": "code",
      "execution_count": 89,
      "metadata": {
        "id": "WtSXW1VvDSsv"
      },
      "outputs": [],
      "source": [
        "#лосс функция\n",
        "loss_function = th.nn.CrossEntropyLoss()\n",
        "#оптимизатор\n",
        "optimization_function = th.optim.Adam(net.parameters(), lr = 0.001)"
      ]
    },
    {
      "cell_type": "code",
      "source": [
        "th.cuda.is_available()"
      ],
      "metadata": {
        "colab": {
          "base_uri": "https://localhost:8080/"
        },
        "id": "idfuXq273z-d",
        "outputId": "528dccc8-c9cd-4b53-a72e-e88c68a6e3aa"
      },
      "execution_count": 90,
      "outputs": [
        {
          "output_type": "execute_result",
          "data": {
            "text/plain": [
              "True"
            ]
          },
          "metadata": {},
          "execution_count": 90
        }
      ]
    },
    {
      "cell_type": "code",
      "source": [
        "!nvidia-smi"
      ],
      "metadata": {
        "colab": {
          "base_uri": "https://localhost:8080/"
        },
        "id": "xE0kUuow314O",
        "outputId": "17d1ddf1-d993-4268-d6b3-fe0f112edab9"
      },
      "execution_count": 91,
      "outputs": [
        {
          "output_type": "stream",
          "name": "stdout",
          "text": [
            "Wed Feb 22 12:26:55 2023       \n",
            "+-----------------------------------------------------------------------------+\n",
            "| NVIDIA-SMI 510.47.03    Driver Version: 510.47.03    CUDA Version: 11.6     |\n",
            "|-------------------------------+----------------------+----------------------+\n",
            "| GPU  Name        Persistence-M| Bus-Id        Disp.A | Volatile Uncorr. ECC |\n",
            "| Fan  Temp  Perf  Pwr:Usage/Cap|         Memory-Usage | GPU-Util  Compute M. |\n",
            "|                               |                      |               MIG M. |\n",
            "|===============================+======================+======================|\n",
            "|   0  Tesla T4            Off  | 00000000:00:04.0 Off |                    0 |\n",
            "| N/A   45C    P0    26W /  70W |    784MiB / 15360MiB |      0%      Default |\n",
            "|                               |                      |                  N/A |\n",
            "+-------------------------------+----------------------+----------------------+\n",
            "                                                                               \n",
            "+-----------------------------------------------------------------------------+\n",
            "| Processes:                                                                  |\n",
            "|  GPU   GI   CI        PID   Type   Process name                  GPU Memory |\n",
            "|        ID   ID                                                   Usage      |\n",
            "|=============================================================================|\n",
            "|    0   N/A  N/A      2113      C                                     781MiB |\n",
            "+-----------------------------------------------------------------------------+\n"
          ]
        }
      ]
    },
    {
      "cell_type": "code",
      "source": [
        "device = th.device('cuda:0' if th.cuda.is_available() else 'cpu')\n",
        "net = net.to(device)"
      ],
      "metadata": {
        "id": "ZuNRDWOE38it"
      },
      "execution_count": 92,
      "outputs": []
    },
    {
      "cell_type": "code",
      "source": [
        "X_test = X_test.to(device)\n",
        "y_test = y_test.to(device)\n",
        "y_new_test = y_new_test.to(device)\n",
        "\n",
        "X_train = X_train.to(device)\n",
        "y_train = y_train.to(device)\n",
        "y_new_train = y_new_train.to(device)"
      ],
      "metadata": {
        "id": "XAD153I_C9Uf"
      },
      "execution_count": 93,
      "outputs": []
    },
    {
      "cell_type": "code",
      "execution_count": 115,
      "metadata": {
        "id": "iLHagWwaHCEg",
        "colab": {
          "base_uri": "https://localhost:8080/"
        },
        "outputId": "0290a555-9f7d-49c7-cd10-8740ef4590ff"
      },
      "outputs": [
        {
          "output_type": "stream",
          "name": "stdout",
          "text": [
            "Epoch 0 start\n",
            "Epoch 1 start\n",
            "Epoch 2 start\n",
            "Epoch 3 start\n",
            "Epoch 4 start\n",
            "Epoch 5 start\n",
            "Epoch 6 start\n",
            "Epoch 7 start\n",
            "Epoch 8 start\n",
            "Epoch 9 start\n",
            "Epoch 10 start\n",
            "Epoch 11 start\n",
            "Epoch 12 start\n"
          ]
        }
      ],
      "source": [
        "batch_size = 100\n",
        "epochs = 13\n",
        "hist = th\n",
        "history_score = []\n",
        "history_score_train = []\n",
        "\n",
        "for epoch in range(epochs):\n",
        "  order = np.random.permutation(len(X_train))\n",
        "  print(\"Epoch\", epoch, \"start\")\n",
        "  for start_index in range (0,len(X_train), batch_size):\n",
        "    #зануляем градианты\n",
        "    optimization_function.zero_grad()\n",
        "    \n",
        "    batch_indexes = order[start_index:start_index+batch_size]\n",
        "\n",
        "    X_batch = X_train[batch_indexes]\n",
        "    y_batch = y_new_train[batch_indexes]\n",
        "\n",
        "    # 1 шаг - запихиваем данные и смотри что выдает\n",
        "    predictions = net.forward(X_batch)  \n",
        "\n",
        "    # 2 шаг - считаем значение лосс функции\n",
        "\n",
        "    loss_value = loss_function(predictions, y_batch)\n",
        "\n",
        "    # 3 шаг - считаем градиент\n",
        "\n",
        "    loss_value.backward()\n",
        "\n",
        "    # 4 шаг - делаем шаг\n",
        "\n",
        "    optimization_function.step()\n",
        "  test_pred_train = net.forward(X_train)\n",
        "  test_pred_train = test_pred_train.argmax(dim=1)\n",
        "  history_score_train.append(((y_train == test_pred_train).float()).mean())\n",
        "  test_pred = net.forward(X_test)\n",
        "  test_pred = test_pred.argmax(dim=1)\n",
        "  history_score.append(((y_test == test_pred).float()).mean())"
      ]
    },
    {
      "cell_type": "code",
      "source": [
        " "
      ],
      "metadata": {
        "id": "ApoQmERI3v2I"
      },
      "execution_count": null,
      "outputs": []
    },
    {
      "cell_type": "code",
      "source": [
        "print(\"accuracy_score: \", ((y_test == test_pred).float()).mean())\n",
        "test_pred = net.forward(X_test)\n",
        "test_pred = test_pred.argmax(dim = 1)\n",
        "\n",
        "wrong_y_indexes = []\n",
        "wrong_predict = []\n",
        "for i in range(0, len(test_pred)):\n",
        "  if test_pred[i] != y_test[i]:\n",
        "    wrong_y_indexes.append(i)\n",
        "    wrong_predict.append(test_pred[i])\n"
      ],
      "metadata": {
        "id": "IyhDFxL1jWs4",
        "colab": {
          "base_uri": "https://localhost:8080/"
        },
        "outputId": "8b609672-8318-44c0-c63a-7cfb6e359b9f"
      },
      "execution_count": 106,
      "outputs": [
        {
          "output_type": "stream",
          "name": "stdout",
          "text": [
            "accuracy_score:  tensor(0.9690, device='cuda:0')\n"
          ]
        }
      ]
    },
    {
      "cell_type": "code",
      "source": [
        "for i in range(0, len(history_score)):\n",
        "    history_score[i] = history_score[i].to(\"cpu\")\n",
        "for i in range(0, len(history_score_train)):\n",
        "    history_score_train[i] = history_score_train[i].to(\"cpu\")"
      ],
      "metadata": {
        "id": "JCWIIdV2JuKq"
      },
      "execution_count": 110,
      "outputs": []
    },
    {
      "cell_type": "code",
      "source": [
        "history_score"
      ],
      "metadata": {
        "colab": {
          "base_uri": "https://localhost:8080/"
        },
        "id": "734PHdReJhx-",
        "outputId": "20d2b1b1-54dd-440a-aac8-6d24b0183631"
      },
      "execution_count": 111,
      "outputs": [
        {
          "output_type": "execute_result",
          "data": {
            "text/plain": [
              "[tensor(0.9686),\n",
              " tensor(0.9718),\n",
              " tensor(0.9700),\n",
              " tensor(0.9694),\n",
              " tensor(0.9698),\n",
              " tensor(0.9715),\n",
              " tensor(0.9684),\n",
              " tensor(0.9712),\n",
              " tensor(0.9720),\n",
              " tensor(0.9696),\n",
              " tensor(0.9678),\n",
              " tensor(0.9708),\n",
              " tensor(0.9690)]"
            ]
          },
          "metadata": {},
          "execution_count": 111
        }
      ]
    },
    {
      "cell_type": "code",
      "source": [
        "plt.plot(history_score)\n",
        "plt.plot(history_score_train)"
      ],
      "metadata": {
        "id": "cX8w8rN2Fb7F",
        "colab": {
          "base_uri": "https://localhost:8080/",
          "height": 282
        },
        "outputId": "43641e44-2936-41ab-ac4a-94f3b6d14f56"
      },
      "execution_count": 112,
      "outputs": [
        {
          "output_type": "execute_result",
          "data": {
            "text/plain": [
              "[<matplotlib.lines.Line2D at 0x7fd8c9210cd0>]"
            ]
          },
          "metadata": {},
          "execution_count": 112
        },
        {
          "output_type": "display_data",
          "data": {
            "text/plain": [
              "<Figure size 432x288 with 1 Axes>"
            ],
            "image/png": "[encoded data removed]"
          },
          "metadata": {
            "needs_background": "light"
          }
        }
      ]
    },
    {
      "cell_type": "code",
      "source": [
        "X_test_for_plt = MNIST_test.test_data\n",
        "X_test_for_plt = X_test_for_plt.float()"
      ],
      "metadata": {
        "id": "L1S19mo_KcBj",
        "colab": {
          "base_uri": "https://localhost:8080/"
        },
        "outputId": "0e0f0430-8929-408e-93ec-4300208af7ef"
      },
      "execution_count": 49,
      "outputs": [
        {
          "output_type": "stream",
          "name": "stderr",
          "text": [
            "/usr/local/lib/python3.8/dist-packages/torchvision/datasets/mnist.py:80: UserWarning: test_data has been renamed data\n",
            "  warnings.warn(\"test_data has been renamed data\")\n"
          ]
        }
      ]
    },
    {
      "cell_type": "code",
      "source": [
        "\n",
        "import time\n",
        "from IPython.display import display, clear_output\n",
        "\n",
        "\"\"\"\n",
        "\n",
        "Прекрасное только то, что мы видим издалека. Не приближайтесь к прекрасному...\n",
        "                                                  Александр Валентинович Вампилов. Из записных книжек\n",
        "\n",
        "\"\"\"\n",
        "\n",
        "for i in range(0, len(wrong_y_indexes)):\n",
        "  try:\n",
        "    n = wrong_y_indexes[i]\n",
        "    ax = plt.imshow(X_test_for_plt[n, :, :])\n",
        "    plt.title(\"Правильный ответ:\"+str(y_test.cpu().numpy()[n])+ \", Ответ модели: \"+ str(int(wrong_predict[i])))\n",
        "    clear_output(wait=True)\n",
        "    display()\n",
        "    plt.show(block = False)\n",
        "    time.sleep(2)\n",
        "  except KeyboardInterrupt:\n",
        "    print(\"А на сегодня всёёёё\")\n",
        "    break"
      ],
      "metadata": {
        "id": "G6hsb9PkIhfg",
        "colab": {
          "base_uri": "https://localhost:8080/",
          "height": 298
        },
        "outputId": "0af173bf-5d18-43e9-c616-5fdee411f1f6"
      },
      "execution_count": 114,
      "outputs": [
        {
          "output_type": "display_data",
          "data": {
            "text/plain": [
              "<Figure size 432x288 with 1 Axes>"
            ],
            "image/png": "[encoded data removed]"
          },
          "metadata": {
            "needs_background": "light"
          }
        },
        {
          "output_type": "stream",
          "name": "stdout",
          "text": [
            "А на сегодня всёёёё\n"
          ]
        }
      ]
    },
    {
      "cell_type": "code",
      "source": [],
      "metadata": {
        "id": "H8caGLy2KVHx"
      },
      "execution_count": null,
      "outputs": []
    }
  ],
  "metadata": {
    "colab": {
      "provenance": []
    },
    "gpuClass": "standard",
    "kernelspec": {
      "display_name": "Python 3 (ipykernel)",
      "language": "python",
      "name": "python3"
    },
    "language_info": {
      "codemirror_mode": {
        "name": "ipython",
        "version": 3
      },
      "file_extension": ".py",
      "mimetype": "text/x-python",
      "name": "python",
      "nbconvert_exporter": "python",
      "pygments_lexer": "ipython3",
      "version": "3.9.12"
    },
    "accelerator": "GPU"
  },
  "nbformat": 4,
  "nbformat_minor": 0
}