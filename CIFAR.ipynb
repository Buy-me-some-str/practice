{
  "nbformat": 4,
  "nbformat_minor": 0,
  "metadata": {
    "colab": {
      "provenance": [],
      "authorship_tag": "ABX9TyNgMWcJaebrJqlx+O8tSlKs",
      "include_colab_link": true
    },
    "kernelspec": {
      "name": "python3",
      "display_name": "Python 3"
    },
    "language_info": {
      "name": "python"
    },
    "accelerator": "GPU",
    "gpuClass": "standard",
    "widgets": {
      "application/vnd.jupyter.widget-state+json": {
        "a0bc0f7701ee4e359e04bef9450364c4": {
          "model_module": "@jupyter-widgets/controls",
          "model_name": "HBoxModel",
          "model_module_version": "1.5.0",
          "state": {
            "_dom_classes": [],
            "_model_module": "@jupyter-widgets/controls",
            "_model_module_version": "1.5.0",
            "_model_name": "HBoxModel",
            "_view_count": null,
            "_view_module": "@jupyter-widgets/controls",
            "_view_module_version": "1.5.0",
            "_view_name": "HBoxView",
            "box_style": "",
            "children": [
              "IPY_MODEL_f9916bd03cd0497cb341535d858241c5",
              "IPY_MODEL_19dfa893b2df401183c27b7d3de635ae",
              "IPY_MODEL_819300ea7b8c466f9cd93ca4a996624f"
            ],
            "layout": "IPY_MODEL_a959e0a3e5444a73a386d4b50e6e385e"
          }
        },
        "f9916bd03cd0497cb341535d858241c5": {
          "model_module": "@jupyter-widgets/controls",
          "model_name": "HTMLModel",
          "model_module_version": "1.5.0",
          "state": {
            "_dom_classes": [],
            "_model_module": "@jupyter-widgets/controls",
            "_model_module_version": "1.5.0",
            "_model_name": "HTMLModel",
            "_view_count": null,
            "_view_module": "@jupyter-widgets/controls",
            "_view_module_version": "1.5.0",
            "_view_name": "HTMLView",
            "description": "",
            "description_tooltip": null,
            "layout": "IPY_MODEL_accc1cfd678846ac945916c041950f2e",
            "placeholder": "​",
            "style": "IPY_MODEL_2035df39827b4c7f9e6e94a4482d09f6",
            "value": "100%"
          }
        },
        "19dfa893b2df401183c27b7d3de635ae": {
          "model_module": "@jupyter-widgets/controls",
          "model_name": "FloatProgressModel",
          "model_module_version": "1.5.0",
          "state": {
            "_dom_classes": [],
            "_model_module": "@jupyter-widgets/controls",
            "_model_module_version": "1.5.0",
            "_model_name": "FloatProgressModel",
            "_view_count": null,
            "_view_module": "@jupyter-widgets/controls",
            "_view_module_version": "1.5.0",
            "_view_name": "ProgressView",
            "bar_style": "success",
            "description": "",
            "description_tooltip": null,
            "layout": "IPY_MODEL_05113e765b85421690bbda11463cfcd4",
            "max": 10,
            "min": 0,
            "orientation": "horizontal",
            "style": "IPY_MODEL_8b27fff1b4bb498989c39a3b14238f37",
            "value": 10
          }
        },
        "819300ea7b8c466f9cd93ca4a996624f": {
          "model_module": "@jupyter-widgets/controls",
          "model_name": "HTMLModel",
          "model_module_version": "1.5.0",
          "state": {
            "_dom_classes": [],
            "_model_module": "@jupyter-widgets/controls",
            "_model_module_version": "1.5.0",
            "_model_name": "HTMLModel",
            "_view_count": null,
            "_view_module": "@jupyter-widgets/controls",
            "_view_module_version": "1.5.0",
            "_view_name": "HTMLView",
            "description": "",
            "description_tooltip": null,
            "layout": "IPY_MODEL_a1868e8e37264096a1fb0957ce78bad8",
            "placeholder": "​",
            "style": "IPY_MODEL_b2f07f7924a64cd1ab2b58b414d2a895",
            "value": " 10/10 [02:18&lt;00:00, 13.18s/it]"
          }
        },
        "a959e0a3e5444a73a386d4b50e6e385e": {
          "model_module": "@jupyter-widgets/base",
          "model_name": "LayoutModel",
          "model_module_version": "1.2.0",
          "state": {
            "_model_module": "@jupyter-widgets/base",
            "_model_module_version": "1.2.0",
            "_model_name": "LayoutModel",
            "_view_count": null,
            "_view_module": "@jupyter-widgets/base",
            "_view_module_version": "1.2.0",
            "_view_name": "LayoutView",
            "align_content": null,
            "align_items": null,
            "align_self": null,
            "border": null,
            "bottom": null,
            "display": null,
            "flex": null,
            "flex_flow": null,
            "grid_area": null,
            "grid_auto_columns": null,
            "grid_auto_flow": null,
            "grid_auto_rows": null,
            "grid_column": null,
            "grid_gap": null,
            "grid_row": null,
            "grid_template_areas": null,
            "grid_template_columns": null,
            "grid_template_rows": null,
            "height": null,
            "justify_content": null,
            "justify_items": null,
            "left": null,
            "margin": null,
            "max_height": null,
            "max_width": null,
            "min_height": null,
            "min_width": null,
            "object_fit": null,
            "object_position": null,
            "order": null,
            "overflow": null,
            "overflow_x": null,
            "overflow_y": null,
            "padding": null,
            "right": null,
            "top": null,
            "visibility": null,
            "width": null
          }
        },
        "accc1cfd678846ac945916c041950f2e": {
          "model_module": "@jupyter-widgets/base",
          "model_name": "LayoutModel",
          "model_module_version": "1.2.0",
          "state": {
            "_model_module": "@jupyter-widgets/base",
            "_model_module_version": "1.2.0",
            "_model_name": "LayoutModel",
            "_view_count": null,
            "_view_module": "@jupyter-widgets/base",
            "_view_module_version": "1.2.0",
            "_view_name": "LayoutView",
            "align_content": null,
            "align_items": null,
            "align_self": null,
            "border": null,
            "bottom": null,
            "display": null,
            "flex": null,
            "flex_flow": null,
            "grid_area": null,
            "grid_auto_columns": null,
            "grid_auto_flow": null,
            "grid_auto_rows": null,
            "grid_column": null,
            "grid_gap": null,
            "grid_row": null,
            "grid_template_areas": null,
            "grid_template_columns": null,
            "grid_template_rows": null,
            "height": null,
            "justify_content": null,
            "justify_items": null,
            "left": null,
            "margin": null,
            "max_height": null,
            "max_width": null,
            "min_height": null,
            "min_width": null,
            "object_fit": null,
            "object_position": null,
            "order": null,
            "overflow": null,
            "overflow_x": null,
            "overflow_y": null,
            "padding": null,
            "right": null,
            "top": null,
            "visibility": null,
            "width": null
          }
        },
        "2035df39827b4c7f9e6e94a4482d09f6": {
          "model_module": "@jupyter-widgets/controls",
          "model_name": "DescriptionStyleModel",
          "model_module_version": "1.5.0",
          "state": {
            "_model_module": "@jupyter-widgets/controls",
            "_model_module_version": "1.5.0",
            "_model_name": "DescriptionStyleModel",
            "_view_count": null,
            "_view_module": "@jupyter-widgets/base",
            "_view_module_version": "1.2.0",
            "_view_name": "StyleView",
            "description_width": ""
          }
        },
        "05113e765b85421690bbda11463cfcd4": {
          "model_module": "@jupyter-widgets/base",
          "model_name": "LayoutModel",
          "model_module_version": "1.2.0",
          "state": {
            "_model_module": "@jupyter-widgets/base",
            "_model_module_version": "1.2.0",
            "_model_name": "LayoutModel",
            "_view_count": null,
            "_view_module": "@jupyter-widgets/base",
            "_view_module_version": "1.2.0",
            "_view_name": "LayoutView",
            "align_content": null,
            "align_items": null,
            "align_self": null,
            "border": null,
            "bottom": null,
            "display": null,
            "flex": null,
            "flex_flow": null,
            "grid_area": null,
            "grid_auto_columns": null,
            "grid_auto_flow": null,
            "grid_auto_rows": null,
            "grid_column": null,
            "grid_gap": null,
            "grid_row": null,
            "grid_template_areas": null,
            "grid_template_columns": null,
            "grid_template_rows": null,
            "height": null,
            "justify_content": null,
            "justify_items": null,
            "left": null,
            "margin": null,
            "max_height": null,
            "max_width": null,
            "min_height": null,
            "min_width": null,
            "object_fit": null,
            "object_position": null,
            "order": null,
            "overflow": null,
            "overflow_x": null,
            "overflow_y": null,
            "padding": null,
            "right": null,
            "top": null,
            "visibility": null,
            "width": null
          }
        },
        "8b27fff1b4bb498989c39a3b14238f37": {
          "model_module": "@jupyter-widgets/controls",
          "model_name": "ProgressStyleModel",
          "model_module_version": "1.5.0",
          "state": {
            "_model_module": "@jupyter-widgets/controls",
            "_model_module_version": "1.5.0",
            "_model_name": "ProgressStyleModel",
            "_view_count": null,
            "_view_module": "@jupyter-widgets/base",
            "_view_module_version": "1.2.0",
            "_view_name": "StyleView",
            "bar_color": null,
            "description_width": ""
          }
        },
        "a1868e8e37264096a1fb0957ce78bad8": {
          "model_module": "@jupyter-widgets/base",
          "model_name": "LayoutModel",
          "model_module_version": "1.2.0",
          "state": {
            "_model_module": "@jupyter-widgets/base",
            "_model_module_version": "1.2.0",
            "_model_name": "LayoutModel",
            "_view_count": null,
            "_view_module": "@jupyter-widgets/base",
            "_view_module_version": "1.2.0",
            "_view_name": "LayoutView",
            "align_content": null,
            "align_items": null,
            "align_self": null,
            "border": null,
            "bottom": null,
            "display": null,
            "flex": null,
            "flex_flow": null,
            "grid_area": null,
            "grid_auto_columns": null,
            "grid_auto_flow": null,
            "grid_auto_rows": null,
            "grid_column": null,
            "grid_gap": null,
            "grid_row": null,
            "grid_template_areas": null,
            "grid_template_columns": null,
            "grid_template_rows": null,
            "height": null,
            "justify_content": null,
            "justify_items": null,
            "left": null,
            "margin": null,
            "max_height": null,
            "max_width": null,
            "min_height": null,
            "min_width": null,
            "object_fit": null,
            "object_position": null,
            "order": null,
            "overflow": null,
            "overflow_x": null,
            "overflow_y": null,
            "padding": null,
            "right": null,
            "top": null,
            "visibility": null,
            "width": null
          }
        },
        "b2f07f7924a64cd1ab2b58b414d2a895": {
          "model_module": "@jupyter-widgets/controls",
          "model_name": "DescriptionStyleModel",
          "model_module_version": "1.5.0",
          "state": {
            "_model_module": "@jupyter-widgets/controls",
            "_model_module_version": "1.5.0",
            "_model_name": "DescriptionStyleModel",
            "_view_count": null,
            "_view_module": "@jupyter-widgets/base",
            "_view_module_version": "1.2.0",
            "_view_name": "StyleView",
            "description_width": ""
          }
        }
      }
    }
  },
  "cells": [
    {
      "cell_type": "markdown",
      "metadata": {
        "id": "view-in-github",
        "colab_type": "text"
      },
      "source": [
        "<a href=\"https://colab.research.google.com/github/Buy-me-some-str/practice/blob/main/CIFAR.ipynb\" target=\"_parent\"><img src=\"https://colab.research.google.com/assets/colab-badge.svg\" alt=\"Open In Colab\"/></a>"
      ]
    },
    {
      "cell_type": "code",
      "execution_count": 1,
      "metadata": {
        "id": "PLTphJq5J0fU"
      },
      "outputs": [],
      "source": [
        "import torch\n",
        "from torch import nn\n",
        "from torch.utils.data import DataLoader\n",
        "\n",
        "import torchvision\n",
        "from torchvision import datasets\n",
        "from torchvision.transforms import ToTensor\n",
        "\n",
        "import matplotlib.pyplot as plt\n",
        "\n",
        "from tqdm.auto import tqdm"
      ]
    },
    {
      "cell_type": "code",
      "source": [
        "train_data = datasets.CIFAR10(\n",
        "    train=True,\n",
        "    root=\"data\",\n",
        "    transform=ToTensor(),\n",
        "    download=True,\n",
        "    target_transform=None\n",
        ")\n",
        "test_data = datasets.CIFAR10(\n",
        "    train=False,\n",
        "    root=\"data\",\n",
        "    transform=ToTensor(),\n",
        "    download = True,\n",
        "    target_transform=None\n",
        ")"
      ],
      "metadata": {
        "colab": {
          "base_uri": "https://localhost:8080/"
        },
        "id": "eiWeCsHOJ6qv",
        "outputId": "a4db124f-d11d-4932-d090-5798946ec7eb"
      },
      "execution_count": 2,
      "outputs": [
        {
          "output_type": "stream",
          "name": "stdout",
          "text": [
            "Downloading https://www.cs.toronto.edu/~kriz/cifar-10-python.tar.gz to data/cifar-10-python.tar.gz\n"
          ]
        },
        {
          "output_type": "stream",
          "name": "stderr",
          "text": [
            "100%|██████████| 170498071/170498071 [00:13<00:00, 12882577.98it/s]\n"
          ]
        },
        {
          "output_type": "stream",
          "name": "stdout",
          "text": [
            "Extracting data/cifar-10-python.tar.gz to data\n",
            "Files already downloaded and verified\n"
          ]
        }
      ]
    },
    {
      "cell_type": "code",
      "source": [
        "classes = train_data.classes\n",
        "labels = train_data.targets"
      ],
      "metadata": {
        "id": "v0SrLGSGLoFg"
      },
      "execution_count": 3,
      "outputs": []
    },
    {
      "cell_type": "code",
      "source": [
        "train_data"
      ],
      "metadata": {
        "colab": {
          "base_uri": "https://localhost:8080/"
        },
        "id": "0N1Z9COPOH__",
        "outputId": "c99ec72c-7403-40d1-8c1e-12e4f7e5a748"
      },
      "execution_count": 4,
      "outputs": [
        {
          "output_type": "execute_result",
          "data": {
            "text/plain": [
              "Dataset CIFAR10\n",
              "    Number of datapoints: 50000\n",
              "    Root location: data\n",
              "    Split: Train\n",
              "    StandardTransform\n",
              "Transform: ToTensor()"
            ]
          },
          "metadata": {},
          "execution_count": 4
        }
      ]
    },
    {
      "cell_type": "code",
      "source": [
        "n = 14\n",
        "image, label = train_data[n]\n",
        "print(image.shape, label)\n",
        "plt.imshow(image.permute(1, 2, 0))\n",
        "plt.title(classes[labels[n]])"
      ],
      "metadata": {
        "colab": {
          "base_uri": "https://localhost:8080/",
          "height": 487
        },
        "id": "bjSISKK5Ls5w",
        "outputId": "6cf89f63-566a-4868-ede4-f87912e88dda"
      },
      "execution_count": 5,
      "outputs": [
        {
          "output_type": "stream",
          "name": "stdout",
          "text": [
            "torch.Size([3, 32, 32]) 9\n"
          ]
        },
        {
          "output_type": "execute_result",
          "data": {
            "text/plain": [
              "Text(0.5, 1.0, 'truck')"
            ]
          },
          "metadata": {},
          "execution_count": 5
        },
        {
          "output_type": "display_data",
          "data": {
            "text/plain": [
              "<Figure size 640x480 with 1 Axes>"
            ],
            "image/png": "[encoded data removed]"
          },
          "metadata": {}
        }
      ]
    },
    {
      "cell_type": "code",
      "source": [
        "BATCH_SIZE = 32\n",
        "\n",
        "train_dataloader = DataLoader(dataset=train_data,\n",
        "                              batch_size=BATCH_SIZE,\n",
        "                              shuffle=True)\n",
        "test_dataloader = DataLoader(dataset=test_data,\n",
        "                             batch_size=BATCH_SIZE,\n",
        "                             shuffle=False)\n",
        "device = \"cuda\" if torch.cuda.is_available() else \"cpu\""
      ],
      "metadata": {
        "id": "0F-p_xCASkjK"
      },
      "execution_count": 40,
      "outputs": []
    },
    {
      "cell_type": "code",
      "source": [
        "import requests\n",
        "from pathlib import Path\n",
        "\n",
        "if Path(\"helper_functions.py\").is_file():\n",
        "    print(\"helper_functions already exists\")\n",
        "else:\n",
        "    print(\"Downloading helper_functions.py\")\n",
        "    request = requests.get(\"https://raw.githubusercontent.com/mrdbourke/pytorch-deep-learning/main/helper_functions.py\")\n",
        "    with open(\"hepler_functions.py\", \"wb\") as f:\n",
        "        f.write(request.content)\n",
        "from hepler_functions import accuracy_fn"
      ],
      "metadata": {
        "colab": {
          "base_uri": "https://localhost:8080/"
        },
        "id": "5IwPlo_5Bt-u",
        "outputId": "1d868aa0-b670-47f6-8b3d-95a66f64999d"
      },
      "execution_count": 19,
      "outputs": [
        {
          "output_type": "stream",
          "name": "stdout",
          "text": [
            "Downloading helper_functions.py\n"
          ]
        }
      ]
    },
    {
      "cell_type": "code",
      "source": [
        "from timeit import default_timer as timer\n",
        "\n",
        "def print_train_time(start: float,\n",
        "                     end: float,\n",
        "                     device: torch.device = None):\n",
        "    \"\"\"\n",
        "    Функция для отслеживания времени работы модели НН\n",
        "    \"\"\"\n",
        "    total_time = end - start\n",
        "    print(f\"Total time on {device}: {total_time:.3f} seconds.\")\n",
        "    return total_time"
      ],
      "metadata": {
        "id": "uPadB1-UTJAo"
      },
      "execution_count": 56,
      "outputs": []
    },
    {
      "cell_type": "code",
      "source": [
        "\"\"\"def accuracy_fn(y_preds: torch.Tensor,\n",
        "                y_true: torch.Tensor)->torch.float:\n",
        "                correct = torch.eq(y_preds, y_true).sum().item()\n",
        "                acc = (correct / len(y_preds))*100\n",
        "                return acc\"\"\"\n",
        "                "
      ],
      "metadata": {
        "id": "u2bk8WbTj1Zw",
        "colab": {
          "base_uri": "https://localhost:8080/",
          "height": 53
        },
        "outputId": "06425654-ea9e-440c-bc09-cb593538acb1"
      },
      "execution_count": 57,
      "outputs": [
        {
          "output_type": "execute_result",
          "data": {
            "text/plain": [
              "'def accuracy_fn(y_preds: torch.Tensor,\\n                y_true: torch.Tensor)->torch.float:\\n                correct = torch.eq(y_preds, y_true).sum().item()\\n                acc = (correct / len(y_preds))*100\\n                return acc'"
            ],
            "application/vnd.google.colaboratory.intrinsic+json": {
              "type": "string"
            }
          },
          "metadata": {},
          "execution_count": 57
        }
      ]
    },
    {
      "cell_type": "code",
      "source": [
        "def train_step(model: torch.nn.Module,\n",
        "               data_loader: torch.utils.data.DataLoader,\n",
        "               optimizer: torch.optim.Optimizer,\n",
        "               loss_fn: torch.nn.Module,\n",
        "               accuracy_fn,\n",
        "               device: torch.device = device):\n",
        "    train_loss = 0\n",
        "    train_acc = 0\n",
        "    model.train()\n",
        "    for batch, (X, y) in enumerate(data_loader):\n",
        "        X = X.to(device)\n",
        "        y = y.to(device)\n",
        "        y_pred = model.forward(X)\n",
        "        loss = loss_fn(y_pred, y)\n",
        "        train_loss += loss\n",
        "        train_acc += accuracy_fn(y_true=y,\n",
        "                                 y_pred=y_pred.argmax(dim=1))\n",
        "        optimizer.zero_grad()\n",
        "        loss.backward()\n",
        "        optimizer.step()\n",
        "        if batch % 400 == 0:\n",
        "            print(f\"Batch {batch}: {batch* len(X)}/{len(data_loader.dataset)} samples.\")\n",
        "    train_loss /= len(data_loader)\n",
        "    train_acc /= len(data_loader)\n",
        "    print(f\"Train loss: {train_loss:.5f} | Train acc: {train_acc:.2f}%\")"
      ],
      "metadata": {
        "id": "P2mhKMRCTJFq"
      },
      "execution_count": 58,
      "outputs": []
    },
    {
      "cell_type": "code",
      "source": [
        "def test_step(model: torch.nn.Module,\n",
        "              data_loader: torch.utils.data.DataLoader,\n",
        "              loss_fn: torch.nn.Module,\n",
        "              accuracy_fn,\n",
        "              device: torch.device = device):\n",
        "    test_loss, test_acc = 0, 0\n",
        "    model.eval()\n",
        "    with torch.inference_mode():\n",
        "        for batch, (X, y) in enumerate(data_loader):\n",
        "            X = X.to(device)\n",
        "            y = y.to(device)\n",
        "            test_pred = model.forward(X)\n",
        "            test_loss += loss_fn(test_pred, y)\n",
        "            test_acc += accuracy_fn(y_true=y,\n",
        "                                    y_pred=test_pred.argmax(dim=1))\n",
        "        test_loss /= len(data_loader)\n",
        "        test_acc /= len(data_loader)\n",
        "        print(f\"Test loss: {test_loss:.5f} | Test acc: {test_acc:.2f}%\\n\")"
      ],
      "metadata": {
        "id": "5RksANKuTJId"
      },
      "execution_count": 59,
      "outputs": []
    },
    {
      "cell_type": "code",
      "source": [
        "def eval_model(model: torch.nn.Module,\n",
        "               data_loader: torch.utils.data.DataLoader,\n",
        "               loss_fn: torch.nn.Module,\n",
        "               accuracy_fn,\n",
        "               device: torch.device):\n",
        "    \"\"\"\n",
        "    Функция для оценки модели\n",
        "    \"\"\"\n",
        "    loss, acc = 0, 0\n",
        "    model.eval()\n",
        "    with torch.inference_mode():\n",
        "        for X, y in tqdm(data_loader):\n",
        "            X = X.to(device)\n",
        "            y = y.to(device)\n",
        "            y_logits = model.forward(X)\n",
        "            y_preds = torch.argmax(y_logits, dim=1)\n",
        "            loss += loss_fn(y_logits, y)\n",
        "            acc += accuracy_fn(y_pred=y_preds,\n",
        "                               y_true=y)\n",
        "        loss /= len(data_loader)\n",
        "        acc /= len(data_loader)\n",
        "    return {\"model_name\": model.__class__.__name__,\n",
        "            \"model_loss\": loss.item(),\n",
        "            \"model_acc\": acc}"
      ],
      "metadata": {
        "id": "9ihXbIfmTJDA"
      },
      "execution_count": 60,
      "outputs": []
    },
    {
      "cell_type": "markdown",
      "source": [
        "## Model_2"
      ],
      "metadata": {
        "id": "SDf7j9dmvRJb"
      }
    },
    {
      "cell_type": "code",
      "source": [
        "class ModelV2(nn.Module):\n",
        "    \"\"\"\n",
        "    Модель основана на архитектуре TinyVGG\n",
        "    \"\"\"\n",
        "    def __init__(self, \n",
        "                 input_shape,\n",
        "                 hidden_units,\n",
        "                 output_shape):\n",
        "        super().__init__()\n",
        "        self.conv_block_1 = nn.Sequential(\n",
        "            nn.Conv2d(in_channels=input_shape,\n",
        "                      out_channels=hidden_units,\n",
        "                      kernel_size=3,\n",
        "                      stride=1,\n",
        "                      padding=1),\n",
        "            nn.ReLU(),\n",
        "            nn.Conv2d(in_channels=hidden_units,\n",
        "                      out_channels=hidden_units,\n",
        "                      kernel_size=3,\n",
        "                      stride=1,\n",
        "                      padding=1),\n",
        "            nn.ReLU(),\n",
        "            nn.MaxPool2d(kernel_size=2)\n",
        "        )\n",
        "        self.conv_block_2 = nn.Sequential(\n",
        "            nn.Conv2d(in_channels=hidden_units,\n",
        "                      out_channels=hidden_units,\n",
        "                      kernel_size=3,\n",
        "                      stride=1,\n",
        "                      padding=1),\n",
        "            nn.ReLU(),\n",
        "            nn.Conv2d(in_channels=hidden_units,\n",
        "                      out_channels=hidden_units,\n",
        "                      kernel_size=3,\n",
        "                      stride=1,\n",
        "                      padding=1),\n",
        "            nn.MaxPool2d(kernel_size=2)\n",
        "        )\n",
        "        self.classifier = nn.Sequential(\n",
        "            nn.Flatten(),\n",
        "            nn.Linear(in_features=hidden_units * 8 * 8,\n",
        "                      out_features=output_shape)\n",
        "        )\n",
        "    def forward(self, x):\n",
        "        x = self.conv_block_1(x)\n",
        "        #print(f\"Output shape of conv_block_1: {x.shape}\")\n",
        "        x = self.conv_block_2(x)\n",
        "        #print(f\"Output shape of conv_block_2: {x.shape}\")\n",
        "        x = self.classifier(x)\n",
        "        #print(f\"Output shape of classifier: {x.shape}\")\n",
        "        return x"
      ],
      "metadata": {
        "id": "oPsUh1fEyt7F"
      },
      "execution_count": 61,
      "outputs": []
    },
    {
      "cell_type": "code",
      "source": [
        "model_2 = ModelV2(input_shape=3,\n",
        "                  hidden_units=10,\n",
        "                  output_shape=len(train_data.classes)).to(device)\n",
        "loss_fn = nn.CrossEntropyLoss()\n",
        "\n",
        "optimizer = torch.optim.SGD(params=model_2.parameters(),\n",
        "                            lr=0.1)"
      ],
      "metadata": {
        "id": "OTgsZJ9r36EN"
      },
      "execution_count": 54,
      "outputs": []
    },
    {
      "cell_type": "code",
      "source": [
        "torch.manual_seed = 42\n",
        "torch.cuda.manual_seed = 42\n",
        "\n",
        "from timeit import default_timer as timer\n",
        "train_time_start_model_2 = timer()\n",
        "\n",
        "epochs = 10\n",
        "for epoch in tqdm(range(epochs)):\n",
        "    print(f\"Epoch: {epoch}\\n----------------------\")\n",
        "    train_step(model=model_2,\n",
        "               data_loader=train_dataloader,\n",
        "               loss_fn=loss_fn,\n",
        "               optimizer=optimizer,\n",
        "               accuracy_fn=accuracy_fn,\n",
        "               device=device)\n",
        "    test_step(model=model_2,\n",
        "              data_loader=test_dataloader,\n",
        "              loss_fn=loss_fn,\n",
        "              accuracy_fn=accuracy_fn,\n",
        "              device=device)\n",
        "train_time_end_model_2 = timer()\n",
        "total_train_time_model_2 = print_train_time(start=train_time_start_model_2,\n",
        "                                            end=train_time_end_model_2,\n",
        "                                            device=device)"
      ],
      "metadata": {
        "colab": {
          "base_uri": "https://localhost:8080/",
          "height": 1000,
          "referenced_widgets": [
            "a0bc0f7701ee4e359e04bef9450364c4",
            "f9916bd03cd0497cb341535d858241c5",
            "19dfa893b2df401183c27b7d3de635ae",
            "819300ea7b8c466f9cd93ca4a996624f",
            "a959e0a3e5444a73a386d4b50e6e385e",
            "accc1cfd678846ac945916c041950f2e",
            "2035df39827b4c7f9e6e94a4482d09f6",
            "05113e765b85421690bbda11463cfcd4",
            "8b27fff1b4bb498989c39a3b14238f37",
            "a1868e8e37264096a1fb0957ce78bad8",
            "b2f07f7924a64cd1ab2b58b414d2a895"
          ]
        },
        "id": "X-s_s5Fm36JM",
        "outputId": "acf3022e-3d2b-416c-c8c2-27c434bf9e4b"
      },
      "execution_count": 55,
      "outputs": [
        {
          "output_type": "display_data",
          "data": {
            "text/plain": [
              "  0%|          | 0/10 [00:00<?, ?it/s]"
            ],
            "application/vnd.jupyter.widget-view+json": {
              "version_major": 2,
              "version_minor": 0,
              "model_id": "a0bc0f7701ee4e359e04bef9450364c4"
            }
          },
          "metadata": {}
        },
        {
          "output_type": "stream",
          "name": "stdout",
          "text": [
            "Epoch: 0\n",
            "----------------------\n",
            "Batch 0: 0/50000samples.\n",
            "Batch 400: 12800/50000samples.\n",
            "Batch 800: 25600/50000samples.\n",
            "Batch 1200: 38400/50000samples.\n",
            "Train loss:1.83186|Train acc:34.23%\n",
            "Test loss:1.59605|Test acc:44.06%\n",
            "\n",
            "Epoch: 1\n",
            "----------------------\n",
            "Batch 0: 0/50000samples.\n",
            "Batch 400: 12800/50000samples.\n",
            "Batch 800: 25600/50000samples.\n",
            "Batch 1200: 38400/50000samples.\n",
            "Train loss:1.39166|Train acc:50.75%\n",
            "Test loss:1.36085|Test acc:51.32%\n",
            "\n",
            "Epoch: 2\n",
            "----------------------\n",
            "Batch 0: 0/50000samples.\n",
            "Batch 400: 12800/50000samples.\n",
            "Batch 800: 25600/50000samples.\n",
            "Batch 1200: 38400/50000samples.\n",
            "Train loss:1.25935|Train acc:55.74%\n",
            "Test loss:1.42112|Test acc:51.60%\n",
            "\n",
            "Epoch: 3\n",
            "----------------------\n",
            "Batch 0: 0/50000samples.\n",
            "Batch 400: 12800/50000samples.\n",
            "Batch 800: 25600/50000samples.\n",
            "Batch 1200: 38400/50000samples.\n",
            "Train loss:1.20880|Train acc:57.64%\n",
            "Test loss:1.18590|Test acc:58.15%\n",
            "\n",
            "Epoch: 4\n",
            "----------------------\n",
            "Batch 0: 0/50000samples.\n",
            "Batch 400: 12800/50000samples.\n",
            "Batch 800: 25600/50000samples.\n",
            "Batch 1200: 38400/50000samples.\n",
            "Train loss:1.17640|Train acc:58.56%\n",
            "Test loss:1.24980|Test acc:56.20%\n",
            "\n",
            "Epoch: 5\n",
            "----------------------\n",
            "Batch 0: 0/50000samples.\n",
            "Batch 400: 12800/50000samples.\n",
            "Batch 800: 25600/50000samples.\n",
            "Batch 1200: 38400/50000samples.\n",
            "Train loss:1.15814|Train acc:59.42%\n",
            "Test loss:1.16895|Test acc:58.25%\n",
            "\n",
            "Epoch: 6\n",
            "----------------------\n",
            "Batch 0: 0/50000samples.\n",
            "Batch 400: 12800/50000samples.\n",
            "Batch 800: 25600/50000samples.\n",
            "Batch 1200: 38400/50000samples.\n",
            "Train loss:1.13997|Train acc:60.00%\n",
            "Test loss:1.25726|Test acc:55.75%\n",
            "\n",
            "Epoch: 7\n",
            "----------------------\n",
            "Batch 0: 0/50000samples.\n",
            "Batch 400: 12800/50000samples.\n",
            "Batch 800: 25600/50000samples.\n",
            "Batch 1200: 38400/50000samples.\n",
            "Train loss:1.12441|Train acc:60.75%\n",
            "Test loss:1.19153|Test acc:58.57%\n",
            "\n",
            "Epoch: 8\n",
            "----------------------\n",
            "Batch 0: 0/50000samples.\n",
            "Batch 400: 12800/50000samples.\n",
            "Batch 800: 25600/50000samples.\n",
            "Batch 1200: 38400/50000samples.\n",
            "Train loss:1.11498|Train acc:60.77%\n",
            "Test loss:1.15582|Test acc:59.77%\n",
            "\n",
            "Epoch: 9\n",
            "----------------------\n",
            "Batch 0: 0/50000samples.\n",
            "Batch 400: 12800/50000samples.\n",
            "Batch 800: 25600/50000samples.\n",
            "Batch 1200: 38400/50000samples.\n",
            "Train loss:1.10288|Train acc:61.28%\n",
            "Test loss:1.20334|Test acc:58.13%\n",
            "\n",
            "Total time on cuda: 138.829 seconds.\n"
          ]
        }
      ]
    },
    {
      "cell_type": "code",
      "source": [],
      "metadata": {
        "id": "JYTDfotiETMd"
      },
      "execution_count": null,
      "outputs": []
    }
  ]
}