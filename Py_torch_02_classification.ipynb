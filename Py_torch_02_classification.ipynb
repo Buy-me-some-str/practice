{
  "nbformat": 4,
  "nbformat_minor": 0,
  "metadata": {
    "colab": {
      "provenance": [],
      "authorship_tag": "ABX9TyN7tFrRs0prIM9wUN/Imt3c",
      "include_colab_link": true
    },
    "kernelspec": {
      "name": "python3",
      "display_name": "Python 3"
    },
    "language_info": {
      "name": "python"
    },
    "accelerator": "GPU",
    "gpuClass": "standard"
  },
  "cells": [
    {
      "cell_type": "markdown",
      "metadata": {
        "id": "view-in-github",
        "colab_type": "text"
      },
      "source": [
        "<a href=\"https://colab.research.google.com/github/Buy-me-some-str/practice/blob/main/Py_torch_02_classification.ipynb\" target=\"_parent\"><img src=\"https://colab.research.google.com/assets/colab-badge.svg\" alt=\"Open In Colab\"/></a>"
      ]
    },
    {
      "cell_type": "code",
      "execution_count": 2,
      "metadata": {
        "id": "KFKczrImyapp"
      },
      "outputs": [],
      "source": [
        "import torch\n",
        "from torch import nn\n",
        "import numpy as np\n",
        "import pandas as pd\n",
        "import matplotlib.pyplot as plt "
      ]
    },
    {
      "cell_type": "markdown",
      "source": [
        "### Классификация Pytorch"
      ],
      "metadata": {
        "id": "6IKbmUZZHJRN"
      }
    },
    {
      "cell_type": "code",
      "source": [
        "#1.import data\n",
        "from sklearn.datasets import make_circles"
      ],
      "metadata": {
        "id": "h0XFwzk-DHCi"
      },
      "execution_count": 3,
      "outputs": []
    },
    {
      "cell_type": "code",
      "source": [
        "n_samples = 1000\n",
        "X, y = make_circles(n_samples,\n",
        "                    noise=0.03,\n",
        "                    random_state=42)"
      ],
      "metadata": {
        "id": "_ca4Hfn7HN4U"
      },
      "execution_count": 4,
      "outputs": []
    },
    {
      "cell_type": "code",
      "source": [
        "print(\"X:\",X[:5], \"y:\",y[:5])"
      ],
      "metadata": {
        "colab": {
          "base_uri": "https://localhost:8080/"
        },
        "id": "uAnu3aovHN7o",
        "outputId": "0e6c1978-df0b-40f9-b9b2-a064489e1e63"
      },
      "execution_count": 5,
      "outputs": [
        {
          "output_type": "stream",
          "name": "stdout",
          "text": [
            "X: [[ 0.75424625  0.23148074]\n",
            " [-0.75615888  0.15325888]\n",
            " [-0.81539193  0.17328203]\n",
            " [-0.39373073  0.69288277]\n",
            " [ 0.44220765 -0.89672343]] y: [1 1 1 1 0]\n"
          ]
        }
      ]
    },
    {
      "cell_type": "code",
      "source": [
        "circles = pd.DataFrame({\"X1\":X[:, 0], \n",
        "                        \"X2\":X[:, 1],\n",
        "                        \"label\": y})"
      ],
      "metadata": {
        "id": "yLbAILvAHN-q"
      },
      "execution_count": 6,
      "outputs": []
    },
    {
      "cell_type": "code",
      "source": [
        "plt.figure(figsize=(5, 3))\n",
        "plt.scatter(x=circles.X1,\n",
        "            y=circles.X2,\n",
        "            c=circles.label,\n",
        "            cmap=plt.cm.RdYlBu)"
      ],
      "metadata": {
        "colab": {
          "base_uri": "https://localhost:8080/",
          "height": 228
        },
        "id": "VH4csPGcHOB8",
        "outputId": "2be28eb7-25d6-4a18-8704-a6f326fe56ed"
      },
      "execution_count": 7,
      "outputs": [
        {
          "output_type": "execute_result",
          "data": {
            "text/plain": [
              "<matplotlib.collections.PathCollection at 0x7f12c550ed90>"
            ]
          },
          "metadata": {},
          "execution_count": 7
        },
        {
          "output_type": "display_data",
          "data": {
            "text/plain": [
              "<Figure size 360x216 with 1 Axes>"
            ],
            "image/png": "[encoded data removed]"
          },
          "metadata": {
            "needs_background": "light"
          }
        }
      ]
    },
    {
      "cell_type": "code",
      "source": [
        "#1.1 размерности\n",
        "X.shape, y.shape\n",
        "X.dtype"
      ],
      "metadata": {
        "colab": {
          "base_uri": "https://localhost:8080/"
        },
        "id": "GCQhO_99HOEw",
        "outputId": "dbfad4a0-f8db-41ca-de60-3230678e5b6a"
      },
      "execution_count": 8,
      "outputs": [
        {
          "output_type": "execute_result",
          "data": {
            "text/plain": [
              "dtype('float64')"
            ]
          },
          "metadata": {},
          "execution_count": 8
        }
      ]
    },
    {
      "cell_type": "code",
      "source": [
        "#1.2 тензоры\n",
        "X = torch.from_numpy(X).type(torch.float)\n",
        "y = torch.from_numpy(y).type(torch.float)"
      ],
      "metadata": {
        "id": "z7tzhkq0JRX3"
      },
      "execution_count": 9,
      "outputs": []
    },
    {
      "cell_type": "code",
      "source": [
        "#1.3 разбиение\n",
        "from sklearn.model_selection import train_test_split\n",
        "\n",
        "X_train, X_test, y_train, y_test = train_test_split(X, \n",
        "                                                    y, \n",
        "                                                    test_size = 0.2,\n",
        "                                                    random_state = 42)"
      ],
      "metadata": {
        "id": "ECw9PCEkJL1E"
      },
      "execution_count": 10,
      "outputs": []
    },
    {
      "cell_type": "code",
      "source": [
        "len(X_train), len(y_test)"
      ],
      "metadata": {
        "colab": {
          "base_uri": "https://localhost:8080/"
        },
        "id": "MrI7QOqfL1Z6",
        "outputId": "afad764d-f570-42e5-fdc6-04ac6ec4dbb2"
      },
      "execution_count": 11,
      "outputs": [
        {
          "output_type": "execute_result",
          "data": {
            "text/plain": [
              "(800, 200)"
            ]
          },
          "metadata": {},
          "execution_count": 11
        }
      ]
    },
    {
      "cell_type": "code",
      "source": [
        "#2 построение модели\n",
        "device = \"cuda\" if torch.cuda.is_available else \"cpu\"\n",
        "device"
      ],
      "metadata": {
        "colab": {
          "base_uri": "https://localhost:8080/",
          "height": 35
        },
        "id": "TA8zgiReL6tJ",
        "outputId": "223cea0e-4664-4f3d-ee14-85e60fb93809"
      },
      "execution_count": 12,
      "outputs": [
        {
          "output_type": "execute_result",
          "data": {
            "text/plain": [
              "'cuda'"
            ],
            "application/vnd.google.colaboratory.intrinsic+json": {
              "type": "string"
            }
          },
          "metadata": {},
          "execution_count": 12
        }
      ]
    },
    {
      "cell_type": "code",
      "source": [
        "class CircleModelV0(nn.Module):\n",
        "    def __init__(self):\n",
        "        super().__init__()\n",
        "        self.layer_1 = nn.Linear(in_features=2,\n",
        "                                 out_features=5)\n",
        "        self.layer_2 = nn.Linear(in_features=5,\n",
        "                                 out_features=25)\n",
        "        self.layer_3 = nn.Linear(in_features=25,\n",
        "                                 out_features=50)\n",
        "        self.layer_4 = nn.Linear(in_features=50,\n",
        "                                 out_features=1)\n",
        "    def forward(self, x):\n",
        "        x = self.layer_1(x)\n",
        "        x = self.layer_2(x)\n",
        "        x = self.layer_3(x)\n",
        "        x = self.layer_4(x)\n",
        "        return x"
      ],
      "metadata": {
        "id": "Myalxf0cMW0X"
      },
      "execution_count": 80,
      "outputs": []
    },
    {
      "cell_type": "code",
      "source": [
        "model_0 = CircleModelV0()\n",
        "model_0 = model_0.to(device)"
      ],
      "metadata": {
        "id": "8dFJQGD6ODWz"
      },
      "execution_count": 81,
      "outputs": []
    },
    {
      "cell_type": "code",
      "source": [
        "model_0.state_dict()"
      ],
      "metadata": {
        "colab": {
          "base_uri": "https://localhost:8080/"
        },
        "id": "_VNpSLpSOPJ4",
        "outputId": "8d76af9a-4b7b-4fb3-8361-ef3179bd83aa"
      },
      "execution_count": 82,
      "outputs": [
        {
          "output_type": "execute_result",
          "data": {
            "text/plain": [
              "OrderedDict([('layer_1.weight', tensor([[ 0.5406,  0.5869],\n",
              "                      [-0.1657,  0.6496],\n",
              "                      [-0.1549,  0.1427],\n",
              "                      [-0.3443,  0.4153],\n",
              "                      [ 0.6233, -0.5188]], device='cuda:0')),\n",
              "             ('layer_1.bias',\n",
              "              tensor([0.6146, 0.1323, 0.5224, 0.0958, 0.3410], device='cuda:0')),\n",
              "             ('layer_2.weight',\n",
              "              tensor([[-0.0631,  0.3448,  0.0661, -0.2088,  0.1140],\n",
              "                      [-0.2060, -0.0524, -0.1816,  0.2967, -0.3530],\n",
              "                      [-0.2062, -0.1263, -0.2689,  0.0422, -0.4417],\n",
              "                      [ 0.4039, -0.3799,  0.3453,  0.0744, -0.1452],\n",
              "                      [ 0.2764,  0.0697,  0.3613,  0.0489, -0.1410],\n",
              "                      [ 0.1202, -0.1213,  0.1882,  0.3993,  0.2585],\n",
              "                      [-0.1955,  0.2582,  0.0800,  0.2271, -0.2726],\n",
              "                      [-0.4427, -0.1728, -0.3430,  0.3670,  0.1288],\n",
              "                      [ 0.1852,  0.1414, -0.0078,  0.3500, -0.3178],\n",
              "                      [ 0.0282, -0.3052,  0.1379, -0.1540,  0.1370],\n",
              "                      [-0.0932,  0.3709, -0.2651, -0.2667, -0.2667],\n",
              "                      [ 0.4022,  0.1490,  0.4303, -0.3691, -0.4436],\n",
              "                      [-0.3499, -0.3008,  0.1811,  0.1601,  0.3716],\n",
              "                      [-0.2310, -0.3049,  0.2373, -0.1808,  0.2714],\n",
              "                      [-0.1061,  0.2558, -0.3475, -0.2257,  0.1363],\n",
              "                      [ 0.0945, -0.1140,  0.2666,  0.3040, -0.3243],\n",
              "                      [-0.2388,  0.4095, -0.1509, -0.1585, -0.4327],\n",
              "                      [-0.2561,  0.1117, -0.0590, -0.3246,  0.0105],\n",
              "                      [-0.3055, -0.3794, -0.2463, -0.3914, -0.2848],\n",
              "                      [ 0.4470,  0.0845,  0.1378, -0.4171, -0.2937],\n",
              "                      [-0.1489,  0.0699, -0.3935, -0.1927, -0.2677],\n",
              "                      [ 0.0012, -0.1664, -0.0310, -0.3030, -0.3070],\n",
              "                      [-0.2609, -0.1531, -0.3530,  0.3750, -0.0888],\n",
              "                      [ 0.3848,  0.1393, -0.3787,  0.3095, -0.1230],\n",
              "                      [-0.1714, -0.3712, -0.4446,  0.1280, -0.0977]], device='cuda:0')),\n",
              "             ('layer_2.bias',\n",
              "              tensor([ 0.1741, -0.3670,  0.3320, -0.3283, -0.0772,  0.0934,  0.2309,  0.3610,\n",
              "                       0.4074, -0.3546,  0.1125, -0.1924, -0.0490, -0.3347,  0.4073, -0.3282,\n",
              "                       0.2390,  0.1572,  0.1453, -0.2418,  0.4065,  0.0983,  0.0575, -0.3941,\n",
              "                       0.1877], device='cuda:0')),\n",
              "             ('layer_3.weight',\n",
              "              tensor([[-0.0300, -0.0916,  0.1718,  ..., -0.0351, -0.0530,  0.0214],\n",
              "                      [-0.0353, -0.0596,  0.1278,  ..., -0.1768, -0.1203, -0.0316],\n",
              "                      [ 0.1935,  0.0289, -0.0518,  ..., -0.1521, -0.1714, -0.1871],\n",
              "                      ...,\n",
              "                      [-0.0465, -0.1011,  0.0288,  ..., -0.1908,  0.0527,  0.0989],\n",
              "                      [-0.1754, -0.1309, -0.1438,  ...,  0.0556, -0.0407, -0.1796],\n",
              "                      [-0.0725,  0.0206,  0.1558,  ...,  0.0090, -0.0999, -0.0689]],\n",
              "                     device='cuda:0')),\n",
              "             ('layer_3.bias',\n",
              "              tensor([-0.0023, -0.1248,  0.0157, -0.0141,  0.0776,  0.0473,  0.1497, -0.0066,\n",
              "                      -0.1478,  0.0894, -0.1352, -0.0275, -0.0648, -0.0759, -0.0740,  0.1838,\n",
              "                       0.1145,  0.0554,  0.1878, -0.1812,  0.0323,  0.1280,  0.1329, -0.1592,\n",
              "                       0.0712, -0.1139, -0.0078, -0.0417, -0.1670, -0.1908, -0.1316,  0.0908,\n",
              "                       0.0915, -0.1740, -0.0751,  0.0033, -0.1729,  0.1127,  0.1811,  0.0354,\n",
              "                      -0.1486,  0.0466,  0.0726,  0.1584, -0.1064, -0.1792,  0.0879,  0.0125,\n",
              "                      -0.0652, -0.0838], device='cuda:0')),\n",
              "             ('layer_4.weight',\n",
              "              tensor([[-0.0729,  0.1145, -0.0244,  0.1020,  0.1262,  0.0179,  0.0301, -0.0096,\n",
              "                        0.0971, -0.1274,  0.0562, -0.0230,  0.0646, -0.0006, -0.0524, -0.0153,\n",
              "                        0.0764, -0.0982, -0.0894, -0.0317, -0.0513,  0.0556,  0.0952, -0.0151,\n",
              "                        0.1337, -0.0591, -0.0794, -0.0633, -0.0974, -0.0991, -0.1260, -0.1253,\n",
              "                        0.0369,  0.0862,  0.1328,  0.1205, -0.0081,  0.0274, -0.0846,  0.0547,\n",
              "                       -0.1356,  0.0667,  0.0259,  0.0435,  0.0518, -0.0649,  0.1214,  0.0675,\n",
              "                        0.0929,  0.0187]], device='cuda:0')),\n",
              "             ('layer_4.bias', tensor([0.0888], device='cuda:0'))])"
            ]
          },
          "metadata": {},
          "execution_count": 82
        }
      ]
    },
    {
      "cell_type": "code",
      "source": [],
      "metadata": {
        "id": "ZUWLA1XWPQkQ"
      },
      "execution_count": 82,
      "outputs": []
    },
    {
      "cell_type": "code",
      "source": [
        "with torch.inference_mode():\n",
        "    untrained_preds = model_0(X_test.to(device))\n",
        "    print(untrained_preds[:5].squeeze(dim=1), y_test[:5])"
      ],
      "metadata": {
        "colab": {
          "base_uri": "https://localhost:8080/"
        },
        "id": "JR8BNcybRoRO",
        "outputId": "4c71239b-e9f7-4ede-a37d-8f3a0e5c18e2"
      },
      "execution_count": 83,
      "outputs": [
        {
          "output_type": "stream",
          "name": "stdout",
          "text": [
            "tensor([0.1656, 0.1709, 0.1503, 0.1700, 0.1479], device='cuda:0') tensor([1., 0., 1., 0., 1.], device='cuda:0')\n"
          ]
        }
      ]
    },
    {
      "cell_type": "code",
      "source": [
        "#2.1 функция потерь (с автоматической сигмоидной активацией)\n",
        "loss_fn = torch.nn.BCEWithLogitsLoss()\n",
        "##nn.BCEWithLogitLoss() = nn.Sequential(\n",
        "##      nn.Sigmoid(),\n",
        "##      nn.BCELoss()\n",
        "##)\n",
        "#2.2 оптимизатор (SGD, Adam)\n",
        "optim = torch.optim.Adam(params=model_0.parameters(),\n",
        "                         lr=0.01)\n",
        "#оптимизатор оптимизирует параметры из model_0.parameters()\n",
        "model_0.state_dict()"
      ],
      "metadata": {
        "id": "YHLJZCpoTan-"
      },
      "execution_count": null,
      "outputs": []
    },
    {
      "cell_type": "code",
      "source": [
        "def accuracy_fn(y_true, y_pred):\n",
        "    correct = torch.eq(y_true, y_pred).sum().item()\n",
        "    #item() - из тензора делает число\n",
        "    accuracy = (correct/len(y_pred))*100\n",
        "    return accuracy\n",
        "untrained_preds_probs = torch.sigmoid(untrained_preds.cpu())\n",
        "accuracy_fn(y_train.cpu(), torch.round(untrained_preds_probs.cpu()))"
      ],
      "metadata": {
        "colab": {
          "base_uri": "https://localhost:8080/"
        },
        "id": "1NwyOaAs9y2g",
        "outputId": "48814f7a-732c-4e5a-d00c-204b5ba43d76"
      },
      "execution_count": 85,
      "outputs": [
        {
          "output_type": "execute_result",
          "data": {
            "text/plain": [
              "40000.0"
            ]
          },
          "metadata": {},
          "execution_count": 85
        }
      ]
    },
    {
      "cell_type": "code",
      "source": [
        "#logits_>pred_prob->label"
      ],
      "metadata": {
        "id": "RWmx27xJEQNB"
      },
      "execution_count": 86,
      "outputs": []
    },
    {
      "cell_type": "code",
      "source": [
        "#3.Тренировочный цикл\n",
        "torch.manual_seed(42)\n",
        "torch.cuda.manual_seed(42)\n",
        "epochs = 1000\n",
        "loss_value = []\n",
        "test_loss_value = []\n",
        "count_epochs = []"
      ],
      "metadata": {
        "id": "FVPftFRP_3jC"
      },
      "execution_count": 87,
      "outputs": []
    },
    {
      "cell_type": "code",
      "source": [
        "X_train = X_train.to(device)\n",
        "y_train = y_train.to(device)\n",
        "X_test = X_test.to(device)\n",
        "y_test = y_test.to(device)"
      ],
      "metadata": {
        "id": "df3xUO7SCGW7"
      },
      "execution_count": 88,
      "outputs": []
    },
    {
      "cell_type": "code",
      "source": [
        "for epoch in range(epochs):\n",
        "    model_0.train()\n",
        "    y_logits = model_0.forward(X_train).squeeze() #-1 измерение\n",
        "    y_pred = torch.round(torch.sigmoid(y_logits))\n",
        "    \n",
        "    loss = loss_fn(y_logits, y_train)\n",
        "    accuracy = accuracy_fn(y_true=y_train,\n",
        "                           y_pred=y_pred)\n",
        "    optim.zero_grad()\n",
        "    loss.backward()\n",
        "    optim.step()\n",
        "    model_0.eval()\n",
        "    with torch.inference_mode():\n",
        "        test_logits = model_0(X_test).squeeze()\n",
        "        test_pred = torch.round(torch.sigmoid(test_logits))\n",
        "        test_loss = loss_fn(test_logits,\n",
        "                            y_test)\n",
        "        test_accuracy = accuracy_fn(y_true=y_test,\n",
        "                                  y_pred=test_pred)\n",
        "    if epoch%10==0:\n",
        "        count_epochs.append(epoch)\n",
        "        loss_value.append(accuracy)\n",
        "        test_loss_value.append(test_accuracy)"
      ],
      "metadata": {
        "id": "tzUGkd_GA3sr"
      },
      "execution_count": 89,
      "outputs": []
    },
    {
      "cell_type": "code",
      "source": [
        "with torch.inference_mode():\n",
        "    test_pred_logits = model_0.forward(X_test).squeeze()"
      ],
      "metadata": {
        "id": "nfOpbvVNF0jz"
      },
      "execution_count": 90,
      "outputs": []
    },
    {
      "cell_type": "code",
      "source": [
        "test_pred_probs = torch.sigmoid(test_pred_logits)\n",
        "test_pred = torch.round(test_pred_probs)\n",
        "X_test = X_test.to('cpu')\n",
        "test_pred = test_pred.to('cpu')"
      ],
      "metadata": {
        "id": "eEOgv9-qqPSB"
      },
      "execution_count": 91,
      "outputs": []
    },
    {
      "cell_type": "code",
      "source": [
        "X_test.device, test_pred.device"
      ],
      "metadata": {
        "colab": {
          "base_uri": "https://localhost:8080/"
        },
        "id": "umvGDzS6rDP_",
        "outputId": "cf621215-5abc-470c-9b60-7f42375a2e2a"
      },
      "execution_count": 92,
      "outputs": [
        {
          "output_type": "execute_result",
          "data": {
            "text/plain": [
              "(device(type='cpu'), device(type='cpu'))"
            ]
          },
          "metadata": {},
          "execution_count": 92
        }
      ]
    },
    {
      "cell_type": "code",
      "source": [
        "plt.scatter(X_test[:,0], \n",
        "            X_test[:,1], \n",
        "            c = test_pred)"
      ],
      "metadata": {
        "colab": {
          "base_uri": "https://localhost:8080/",
          "height": 282
        },
        "id": "vpRc58T9IQfQ",
        "outputId": "b534c7b9-2336-4596-c42f-5f796281446b"
      },
      "execution_count": 93,
      "outputs": [
        {
          "output_type": "execute_result",
          "data": {
            "text/plain": [
              "<matplotlib.collections.PathCollection at 0x7f12b1e34bb0>"
            ]
          },
          "metadata": {},
          "execution_count": 93
        },
        {
          "output_type": "display_data",
          "data": {
            "text/plain": [
              "<Figure size 432x288 with 1 Axes>"
            ],
            "image/png": "[encoded data removed]"
          },
          "metadata": {
            "needs_background": "light"
          }
        }
      ]
    },
    {
      "cell_type": "code",
      "source": [
        "test_pred"
      ],
      "metadata": {
        "colab": {
          "base_uri": "https://localhost:8080/"
        },
        "id": "UPr0jih-rCgv",
        "outputId": "f5e8a012-65dd-44af-8d74-9455d2ac2769"
      },
      "execution_count": 94,
      "outputs": [
        {
          "output_type": "execute_result",
          "data": {
            "text/plain": [
              "tensor([1., 1., 0., 1., 0., 0., 1., 1., 0., 1., 1., 1., 1., 0., 0., 1., 1., 1.,\n",
              "        1., 1., 1., 1., 1., 1., 1., 1., 0., 0., 0., 0., 1., 1., 1., 0., 1., 1.,\n",
              "        1., 0., 0., 0., 1., 0., 1., 0., 1., 1., 0., 1., 1., 0., 1., 1., 1., 0.,\n",
              "        1., 0., 1., 0., 0., 0., 0., 1., 0., 0., 1., 1., 1., 1., 1., 1., 0., 1.,\n",
              "        0., 0., 1., 0., 0., 1., 1., 1., 1., 1., 1., 0., 0., 1., 0., 0., 0., 1.,\n",
              "        0., 0., 0., 0., 0., 1., 1., 0., 1., 0., 1., 0., 1., 1., 0., 0., 0., 1.,\n",
              "        0., 1., 1., 1., 1., 0., 1., 0., 0., 0., 0., 0., 0., 0., 0., 0., 1., 0.,\n",
              "        0., 1., 1., 1., 0., 1., 0., 1., 1., 1., 0., 0., 0., 1., 0., 1., 1., 0.,\n",
              "        0., 0., 1., 0., 1., 1., 1., 1., 0., 0., 1., 1., 1., 0., 0., 0., 1., 1.,\n",
              "        0., 1., 1., 0., 1., 0., 0., 1., 1., 1., 1., 1., 1., 0., 0., 1., 1., 0.,\n",
              "        0., 0., 1., 0., 0., 0., 1., 1., 1., 0., 0., 0., 1., 1., 0., 1., 0., 1.,\n",
              "        1., 1.])"
            ]
          },
          "metadata": {},
          "execution_count": 94
        }
      ]
    },
    {
      "cell_type": "code",
      "source": [
        "y_test"
      ],
      "metadata": {
        "colab": {
          "base_uri": "https://localhost:8080/"
        },
        "id": "w2ECsToyp_BD",
        "outputId": "2f37f01e-6bce-465c-dee0-e29c2438c73e"
      },
      "execution_count": 95,
      "outputs": [
        {
          "output_type": "execute_result",
          "data": {
            "text/plain": [
              "tensor([1., 0., 1., 0., 1., 1., 0., 0., 1., 0., 0., 1., 0., 1., 0., 1., 1., 0.,\n",
              "        1., 0., 0., 0., 1., 0., 0., 0., 0., 0., 0., 1., 1., 0., 0., 1., 0., 1.,\n",
              "        1., 1., 1., 1., 1., 1., 1., 0., 0., 1., 0., 0., 1., 1., 0., 0., 0., 0.,\n",
              "        1., 0., 1., 1., 1., 0., 1., 0., 0., 1., 1., 1., 1., 0., 0., 0., 1., 0.,\n",
              "        0., 1., 1., 1., 1., 0., 0., 1., 0., 1., 0., 1., 1., 1., 0., 0., 0., 0.,\n",
              "        1., 1., 1., 1., 1., 0., 1., 1., 0., 1., 0., 0., 1., 1., 0., 0., 1., 0.,\n",
              "        0., 1., 1., 1., 0., 1., 1., 0., 1., 0., 1., 0., 1., 0., 0., 1., 1., 0.,\n",
              "        1., 1., 0., 1., 1., 0., 1., 0., 0., 0., 1., 0., 0., 1., 0., 0., 0., 1.,\n",
              "        0., 0., 1., 0., 1., 0., 1., 0., 1., 0., 1., 1., 1., 0., 0., 1., 0., 1.,\n",
              "        1., 0., 1., 0., 0., 0., 0., 1., 1., 1., 1., 0., 0., 0., 0., 0., 1., 0.,\n",
              "        0., 1., 0., 1., 1., 0., 0., 0., 1., 1., 0., 1., 1., 0., 1., 0., 1., 0.,\n",
              "        1., 1.], device='cuda:0')"
            ]
          },
          "metadata": {},
          "execution_count": 95
        }
      ]
    },
    {
      "cell_type": "code",
      "source": [
        "accuracy_fn(y_true=y_test.cpu(),\n",
        "            y_pred=test_pred.cpu())"
      ],
      "metadata": {
        "colab": {
          "base_uri": "https://localhost:8080/"
        },
        "id": "0h2ciTmJdcrN",
        "outputId": "48e20fe9-7d1b-4e20-ed51-c184a6ba3b87"
      },
      "execution_count": 96,
      "outputs": [
        {
          "output_type": "execute_result",
          "data": {
            "text/plain": [
              "46.0"
            ]
          },
          "metadata": {},
          "execution_count": 96
        }
      ]
    },
    {
      "cell_type": "code",
      "source": [
        "loss_fn(test_pred.cpu(), y_test.cpu())"
      ],
      "metadata": {
        "colab": {
          "base_uri": "https://localhost:8080/"
        },
        "id": "5EgnifnDey17",
        "outputId": "da039b53-cd57-4965-e4af-3afa51a224ca"
      },
      "execution_count": 97,
      "outputs": [
        {
          "output_type": "execute_result",
          "data": {
            "text/plain": [
              "tensor(0.7780)"
            ]
          },
          "metadata": {},
          "execution_count": 97
        }
      ]
    },
    {
      "cell_type": "code",
      "source": [],
      "metadata": {
        "id": "YGTkPxW3fwXv"
      },
      "execution_count": null,
      "outputs": []
    }
  ]
}