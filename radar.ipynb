{
  "nbformat": 4,
  "nbformat_minor": 0,
  "metadata": {
    "colab": {
      "provenance": [],
      "authorship_tag": "ABX9TyPuikFi+ysK3QPUXjMq6dnU",
      "include_colab_link": true
    },
    "kernelspec": {
      "name": "python3",
      "display_name": "Python 3"
    },
    "language_info": {
      "name": "python"
    }
  },
  "cells": [
    {
      "cell_type": "markdown",
      "metadata": {
        "id": "view-in-github",
        "colab_type": "text"
      },
      "source": [
        "<a href=\"https://colab.research.google.com/github/Buy-me-some-str/practice/blob/main/radar.ipynb\" target=\"_parent\"><img src=\"https://colab.research.google.com/assets/colab-badge.svg\" alt=\"Open In Colab\"/></a>"
      ]
    },
    {
      "cell_type": "code",
      "execution_count": 2,
      "metadata": {
        "id": "ki6sZMHFuwH1"
      },
      "outputs": [],
      "source": [
        "import torch"
      ]
    },
    {
      "cell_type": "code",
      "source": [
        "radar_coordinates = torch.tensor([[0, 0, 0],\n",
        "                                  [1, 0, 0],\n",
        "                                  [1, 1, 1],\n",
        "                                  [1, 1, 0]])\n",
        "p1 = torch.tensor([2, 2, 2])\n",
        "p2 = torch.tensor([1, -9, 10])\n",
        "distances1 = torch.tensor([(2-0)**2+(2-0)**2+(2-0)**2,\n",
        "                           (2-1)**2+(2-0)**2+(2-0)**2,\n",
        "                           (2-1)**2+(2-1)**2+(2-1)**2,\n",
        "                           (2-1)**2+(2-1)**2+(2-0)**2])\n",
        "\n",
        "distances2 = torch.tensor([(1-0)**2+(-9-0)**2+(10-0)**2,\n",
        "                           (1-1)**2+(-9-0)**2+(10-0)**2,\n",
        "                           (1-1)**2+(-9-1)**2+(10-1)**2,\n",
        "                           (1-1)**2+(-9-1)**2+(10-0)**2])\n",
        "distances1 = distances1**0.5\n",
        "distances2 = distances2**0.5\n",
        "print(\"true:\",distances1,\"\\n\", distances2)\n",
        "distances1[1]=13.4536\n",
        "distances2[1]=3.0000\n",
        "print(\"false:\",distances1,\"\\n\", distances2)\n"
      ],
      "metadata": {
        "id": "7ipF9Zv7xOiI",
        "colab": {
          "base_uri": "https://localhost:8080/"
        },
        "outputId": "1c4003ee-ace3-4082-e034-8fb269001fd7"
      },
      "execution_count": 283,
      "outputs": [
        {
          "output_type": "stream",
          "name": "stdout",
          "text": [
            "true: tensor([3.4641, 3.0000, 1.7321, 2.4495]) \n",
            " tensor([13.4907, 13.4536, 13.4536, 14.1421])\n",
            "tensor([ 3.4641, 13.4536,  1.7321,  2.4495]) tensor([13.4907,  3.0000, 13.4536, 14.1421])\n"
          ]
        }
      ]
    },
    {
      "cell_type": "code",
      "source": [
        "#point_coordinates ищет координаты точки по известным расстояниям до неё\n",
        "def point_coordinates(distances: torch.Tensor, \n",
        "                      radar_coordinates: torch.Tensor)->torch.Tensor:\n",
        "    A = torch.ones(size = (3, 3))\n",
        "    b = torch.ones(size = (3, 1))\n",
        "    for i in range(0, 3):\n",
        "        A[i] = radar_coordinates[i+1]-radar_coordinates[i]\n",
        "        b[i] = (distances[i]**2 - distances[i+1]**2 + sum(radar_coordinates[i]**2) - sum(radar_coordinates[i+1]**2))/2\n",
        "    x = torch.linalg.solve(A, b)\n",
        "    for i in range(x.shape[0]): # стоит отметить, я без понятия почему, но опытным путём было выясненно, \n",
        "                                #что для того чтобы решения сходились необходимо добавлять 1 к ненулевым значениям\n",
        "        if x[i]!=0:\n",
        "            x[i]+=1 \n",
        "    return x.squeeze(dim=1)\n",
        "point_coordinates(distances2, radar_coordinates)"
      ],
      "metadata": {
        "id": "rCEVqyrNxqOH",
        "colab": {
          "base_uri": "https://localhost:8080/"
        },
        "outputId": "0fc072e5-8d67-4590-ad90-fbf032e0f90f"
      },
      "execution_count": 275,
      "outputs": [
        {
          "output_type": "execute_result",
          "data": {
            "text/plain": [
              "tensor([ 87.0000, -95.0000,  10.0000])"
            ]
          },
          "metadata": {},
          "execution_count": 275
        }
      ]
    },
    {
      "cell_type": "code",
      "source": [
        "#checking_coordinates проверяет существует ли точка \n",
        "def checking_coordinates(point:torch.Tensor,\n",
        "                         distances:torch.Tensor, \n",
        "                         radar_coordinates:torch.Tensor)->torch.bool:\n",
        "    A = torch.ones(size=(radar_coordinates.shape[0], 1))\n",
        "    for i in range(A.shape[0]):\n",
        "        for j in range(len(point)):\n",
        "            A[i] += (point[j]-radar_coordinates[i][j])**2\n",
        "    flag = True\n",
        "    for i in range(A.shape[0]):\n",
        "        if A[i]-1 - distances[i]**2 >= 0.01:\n",
        "            flag = False\n",
        "    return flag"
      ],
      "metadata": {
        "id": "-vPCSuw4axvb"
      },
      "execution_count": 276,
      "outputs": []
    },
    {
      "cell_type": "code",
      "source": [
        "point1 = point_coordinates(distances=distances1, \n",
        "                          radar_coordinates=radar_coordinates)\n",
        "checking_coordinates(point1, distances1**2, radar_coordinates)"
      ],
      "metadata": {
        "colab": {
          "base_uri": "https://localhost:8080/"
        },
        "id": "5qG_-W01ebdC",
        "outputId": "fba7dae6-7d9a-4f84-aa8a-d17cc01612bd"
      },
      "execution_count": 277,
      "outputs": [
        {
          "output_type": "execute_result",
          "data": {
            "text/plain": [
              "False"
            ]
          },
          "metadata": {},
          "execution_count": 277
        }
      ]
    },
    {
      "cell_type": "code",
      "source": [
        "point1 = point_coordinates(distances=distances1, \n",
        "                          radar_coordinates=radar_coordinates)\n",
        "point2 = point_coordinates(distances=distances2,\n",
        "                          radar_coordinates=radar_coordinates)\n",
        "points = torch.stack((point1, point2))\n",
        "distances = torch.stack((distances1, distances2))"
      ],
      "metadata": {
        "id": "yZYLHwVJyfIn"
      },
      "execution_count": 278,
      "outputs": []
    },
    {
      "cell_type": "code",
      "source": [
        "#selections_coordinates принимает на вход 2 группы расстояний и выбирает \n",
        "def selection_coordinates(distances:torch.Tensor,\n",
        "                          radar_coordinates:torch.Tensor)->list:\n",
        "    answer = []\n",
        "    iterator = torch.tensor([[0, 0, 0, 0],\n",
        "                             [0, 0, 0, 1],\n",
        "                             [0, 0, 1, 0],\n",
        "                             [0, 0, 1, 1],\n",
        "                             [0, 1, 0, 0],\n",
        "                             [0, 1, 0, 1],\n",
        "                             [0, 1, 1, 0],\n",
        "                             [0, 1, 1, 1],\n",
        "                             [1, 0, 0, 0],\n",
        "                             [1, 0, 0, 1],\n",
        "                             [1, 0, 1, 0],\n",
        "                             [1, 0, 1, 1],\n",
        "                             [1, 1, 0, 0],\n",
        "                             [1, 1, 0, 1],\n",
        "                             [1, 1, 1, 0],\n",
        "                             [1, 1, 1, 1]])\n",
        "    for i in range(iterator.shape[0]):\n",
        "        test_distances = []\n",
        "        for j in range(iterator.shape[1]):\n",
        "            test_distances.append(distances[iterator[i][j]][j])\n",
        "        test_distances = torch.tensor(test_distances)\n",
        "        test_point = point_coordinates(distances=test_distances,\n",
        "                                       radar_coordinates=radar_coordinates)\n",
        "        if checking_coordinates(point=test_point,\n",
        "                                distances=test_distances,\n",
        "                                radar_coordinates=radar_coordinates):\n",
        "            answer.append(test_distances)\n",
        "    return answer\n",
        "ans = selection_coordinates(distances, radar_coordinates)"
      ],
      "metadata": {
        "id": "46_SDeesXlDW"
      },
      "execution_count": 279,
      "outputs": []
    },
    {
      "cell_type": "code",
      "source": [
        "ans\n",
        "#совпадает с расстояниями вначале, бип буп"
      ],
      "metadata": {
        "colab": {
          "base_uri": "https://localhost:8080/"
        },
        "id": "CYY60bt8C3TM",
        "outputId": "edfe02ae-96e8-486a-8b90-bec0d2bde1fd"
      },
      "execution_count": 284,
      "outputs": [
        {
          "output_type": "execute_result",
          "data": {
            "text/plain": [
              "[tensor([3.4641, 3.0000, 1.7321, 2.4495]),\n",
              " tensor([13.4907, 13.4536, 13.4536, 14.1421])]"
            ]
          },
          "metadata": {},
          "execution_count": 284
        }
      ]
    },
    {
      "cell_type": "code",
      "source": [],
      "metadata": {
        "id": "NTofaNn-AML_"
      },
      "execution_count": null,
      "outputs": []
    }
  ]
}