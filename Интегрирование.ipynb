{
  "nbformat": 4,
  "nbformat_minor": 0,
  "metadata": {
    "colab": {
      "provenance": [],
      "authorship_tag": "ABX9TyONYv6pNcToF/0/PXk4D6MC",
      "include_colab_link": true
    },
    "kernelspec": {
      "name": "python3",
      "display_name": "Python 3"
    },
    "language_info": {
      "name": "python"
    }
  },
  "cells": [
    {
      "cell_type": "markdown",
      "metadata": {
        "id": "view-in-github",
        "colab_type": "text"
      },
      "source": [
        "<a href=\"https://colab.research.google.com/github/Buy-me-some-str/practice/blob/main/%D0%98%D0%BD%D1%82%D0%B5%D0%B3%D1%80%D0%B8%D1%80%D0%BE%D0%B2%D0%B0%D0%BD%D0%B8%D0%B5.ipynb\" target=\"_parent\"><img src=\"https://colab.research.google.com/assets/colab-badge.svg\" alt=\"Open In Colab\"/></a>"
      ]
    },
    {
      "cell_type": "code",
      "execution_count": 8,
      "metadata": {
        "id": "h2UTErk5_NFL"
      },
      "outputs": [],
      "source": [
        "import torch as th\n",
        "import matplotlib.pyplot as plt"
      ]
    },
    {
      "cell_type": "code",
      "source": [
        "class Intergrate():\n",
        "    def __init__(self, f,interval, n=100):\n",
        "        self.f = f\n",
        "        self.n = n\n",
        "        self.a, self.b = interval[0], interval[1]\n",
        "    def trapezoid_method(self):\n",
        "        h = (self.b-self.a)/self.n\n",
        "        integral = 0.5*(self.f(self.a)+self.f(self.b))\n",
        "        for i in range(1, self.n):\n",
        "            integral += f(self.a + i*h)\n",
        "        integral *= h\n",
        "        return integral\n",
        "    def simpson_method(self):\n",
        "        h = (self.b-self.a)/self.n\n",
        "        integral = self.f(self.a)+self.f(self.b)\n",
        "        for i in range(1, self.n):\n",
        "            x = self.a + i * h\n",
        "            if i%2==0:\n",
        "                integral+=2*self.f(x)\n",
        "            else:\n",
        "                integral+=4*self.f(x)\n",
        "        integral *= h/3\n",
        "        return integral\n",
        "    def simpson38_method(self):\n",
        "        h = (self.b-self.a)/self.n\n",
        "        integral = self.f(self.a)+self.f(self.b)\n",
        "        for i in range(0, self.n):\n",
        "            k = self.a + i*h\n",
        "            if i%3==0:\n",
        "                integral+=2*self.f(k)\n",
        "            else:\n",
        "                integral+=3*self.f(k)\n",
        "        integral = integral*3*h/8\n",
        "        return integral"
      ],
      "metadata": {
        "id": "BYGlFOBx_Vmr"
      },
      "execution_count": 84,
      "outputs": []
    },
    {
      "cell_type": "code",
      "source": [
        "interval = (0, 1)"
      ],
      "metadata": {
        "id": "m3XIQAPrAjvL"
      },
      "execution_count": 85,
      "outputs": []
    },
    {
      "cell_type": "code",
      "source": [
        "def f(x):\n",
        "    return 0*x+ 2"
      ],
      "metadata": {
        "id": "Wcc3Kc_2ArQB"
      },
      "execution_count": 86,
      "outputs": []
    },
    {
      "cell_type": "code",
      "source": [
        "a = Intergrate(f, interval)\n",
        "a.trapezoid_method(), a.simpson_method(), a.simpson38_method()"
      ],
      "metadata": {
        "colab": {
          "base_uri": "https://localhost:8080/"
        },
        "id": "Sx8uBRzCAmuO",
        "outputId": "4816f974-a549-4ba3-b150-9b5832a238b7"
      },
      "execution_count": 87,
      "outputs": [
        {
          "output_type": "execute_result",
          "data": {
            "text/plain": [
              "(2.0, 2.0, 2.0100000000000002)"
            ]
          },
          "metadata": {},
          "execution_count": 87
        }
      ]
    },
    {
      "cell_type": "code",
      "source": [
        "import numpy as np\n",
        "\n",
        "x = np.arange(interval[0], interval[1], 0.001)\n",
        "y = f(x)"
      ],
      "metadata": {
        "id": "ht2pOSnEAwxl"
      },
      "execution_count": 59,
      "outputs": []
    },
    {
      "cell_type": "code",
      "source": [
        "plt.scatter(x, y)"
      ],
      "metadata": {
        "colab": {
          "base_uri": "https://localhost:8080/",
          "height": 447
        },
        "id": "A1xSRr35Cj0i",
        "outputId": "059186ca-7c37-4c62-b278-d1b86dfc000e"
      },
      "execution_count": 60,
      "outputs": [
        {
          "output_type": "execute_result",
          "data": {
            "text/plain": [
              "<matplotlib.collections.PathCollection at 0x7d1ce295cf10>"
            ]
          },
          "metadata": {},
          "execution_count": 60
        },
        {
          "output_type": "display_data",
          "data": {
            "text/plain": [
              "<Figure size 640x480 with 1 Axes>"
            ],
            "image/png": "[encoded data removed]"
          },
          "metadata": {}
        }
      ]
    },
    {
      "cell_type": "code",
      "source": [],
      "metadata": {
        "id": "9y-D7BV5CplT"
      },
      "execution_count": null,
      "outputs": []
    }
  ]
}