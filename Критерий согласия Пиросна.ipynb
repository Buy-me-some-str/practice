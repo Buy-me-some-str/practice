{
 "cells": [
  {
   "cell_type": "code",
   "execution_count": 400,
   "id": "3e8a274e",
   "metadata": {},
   "outputs": [],
   "source": [
    "import numpy as np\n",
    "import pandas as pd\n",
    "import statistics as st\n",
    "import scipy.stats as st1\n",
    "import matplotlib.pyplot as plt\n",
    "import math\n",
    "from scipy.stats import norm\n",
    "from sklearn.linear_model import LinearRegression"
   ]
  },
  {
   "cell_type": "code",
   "execution_count": 431,
   "id": "c4fa8398",
   "metadata": {},
   "outputs": [],
   "source": [
    "data = np.loadtxt(\"C:/Users/Danila/Desktop/Статистика/Практика3/ИНБО-06/вариант8/3.txt\")"
   ]
  },
  {
   "cell_type": "code",
   "execution_count": 432,
   "id": "2d3b638d",
   "metadata": {},
   "outputs": [
    {
     "name": "stdout",
     "output_type": "stream",
     "text": [
      "4.584321044055952 4.913406273929064\n",
      "0.034539816508860045 21.71998335117443\n",
      "0.20352479405297338\n"
     ]
    }
   ],
   "source": [
    "Xs1 = np.mean(data) #среднее выборочное\n",
    "Qs1 = np.std(data) #среднеквадратическое отклонение\n",
    "N = len(data) #кол-во объектов в выборке\n",
    "n_groups = 1+math.floor(math.log(N,2))\n",
    "h = abs((max(data))-(min(data))) / n_groups\n",
    "print(Xs1, Qs1)\n",
    "print(min(data), max(data))\n",
    "print(1/Qs1)"
   ]
  },
  {
   "cell_type": "code",
   "execution_count": 433,
   "id": "4e2fcd98",
   "metadata": {},
   "outputs": [],
   "source": [
    "low = np.arange(min(data), max(data), h)\n",
    "upp = np.arange(min(data)+h, max(data)+h, h+0.001)\n",
    "med = (low+upp)/2\n",
    "table_cut = pd.DataFrame({'values': data, 'groups': pd.cut(data, n_groups)})\n",
    "table_hist = table_cut.groupby('groups').count()\n",
    "table_hist['abs_freq'] = table_cut.groupby('groups').count()\n",
    "table_hist['p'] = table_cut.groupby('groups').count()/N\n",
    "table_hist['low'] = low\n",
    "table_hist['upp'] = upp\n",
    "table_hist['med'] = med"
   ]
  },
  {
   "cell_type": "code",
   "execution_count": 434,
   "id": "b516c557",
   "metadata": {},
   "outputs": [],
   "source": [
    "Xs2 = sum(table_hist.med*table_hist.p)\n",
    "Qs2 = sum((table_hist.med - Xs2)**2*table_hist.p)**0.5"
   ]
  },
  {
   "cell_type": "code",
   "execution_count": 435,
   "id": "ce6131f7",
   "metadata": {},
   "outputs": [
    {
     "data": {
      "text/html": [
       "<div>\n",
       "<style scoped>\n",
       "    .dataframe tbody tr th:only-of-type {\n",
       "        vertical-align: middle;\n",
       "    }\n",
       "\n",
       "    .dataframe tbody tr th {\n",
       "        vertical-align: top;\n",
       "    }\n",
       "\n",
       "    .dataframe thead th {\n",
       "        text-align: right;\n",
       "    }\n",
       "</style>\n",
       "<table border=\"1\" class=\"dataframe\">\n",
       "  <thead>\n",
       "    <tr style=\"text-align: right;\">\n",
       "      <th></th>\n",
       "      <th>values</th>\n",
       "      <th>abs_freq</th>\n",
       "      <th>p</th>\n",
       "      <th>low</th>\n",
       "      <th>upp</th>\n",
       "      <th>med</th>\n",
       "    </tr>\n",
       "    <tr>\n",
       "      <th>groups</th>\n",
       "      <th></th>\n",
       "      <th></th>\n",
       "      <th></th>\n",
       "      <th></th>\n",
       "      <th></th>\n",
       "      <th></th>\n",
       "    </tr>\n",
       "  </thead>\n",
       "  <tbody>\n",
       "    <tr>\n",
       "      <th>(0.0129, 3.649]</th>\n",
       "      <td>17</td>\n",
       "      <td>17</td>\n",
       "      <td>0.53125</td>\n",
       "      <td>0.034540</td>\n",
       "      <td>3.648780</td>\n",
       "      <td>1.841660</td>\n",
       "    </tr>\n",
       "    <tr>\n",
       "      <th>(3.649, 7.263]</th>\n",
       "      <td>8</td>\n",
       "      <td>8</td>\n",
       "      <td>0.25000</td>\n",
       "      <td>3.648780</td>\n",
       "      <td>7.264021</td>\n",
       "      <td>5.456401</td>\n",
       "    </tr>\n",
       "    <tr>\n",
       "      <th>(7.263, 10.877]</th>\n",
       "      <td>4</td>\n",
       "      <td>4</td>\n",
       "      <td>0.12500</td>\n",
       "      <td>7.263021</td>\n",
       "      <td>10.879262</td>\n",
       "      <td>9.071141</td>\n",
       "    </tr>\n",
       "    <tr>\n",
       "      <th>(10.877, 14.492]</th>\n",
       "      <td>1</td>\n",
       "      <td>1</td>\n",
       "      <td>0.03125</td>\n",
       "      <td>10.877262</td>\n",
       "      <td>14.494502</td>\n",
       "      <td>12.685882</td>\n",
       "    </tr>\n",
       "    <tr>\n",
       "      <th>(14.492, 18.106]</th>\n",
       "      <td>1</td>\n",
       "      <td>1</td>\n",
       "      <td>0.03125</td>\n",
       "      <td>14.491502</td>\n",
       "      <td>18.109743</td>\n",
       "      <td>16.300622</td>\n",
       "    </tr>\n",
       "    <tr>\n",
       "      <th>(18.106, 21.72]</th>\n",
       "      <td>1</td>\n",
       "      <td>1</td>\n",
       "      <td>0.03125</td>\n",
       "      <td>18.105743</td>\n",
       "      <td>21.724983</td>\n",
       "      <td>19.915363</td>\n",
       "    </tr>\n",
       "  </tbody>\n",
       "</table>\n",
       "</div>"
      ],
      "text/plain": [
       "                  values  abs_freq        p        low        upp        med\n",
       "groups                                                                      \n",
       "(0.0129, 3.649]       17        17  0.53125   0.034540   3.648780   1.841660\n",
       "(3.649, 7.263]         8         8  0.25000   3.648780   7.264021   5.456401\n",
       "(7.263, 10.877]        4         4  0.12500   7.263021  10.879262   9.071141\n",
       "(10.877, 14.492]       1         1  0.03125  10.877262  14.494502  12.685882\n",
       "(14.492, 18.106]       1         1  0.03125  14.491502  18.109743  16.300622\n",
       "(18.106, 21.72]        1         1  0.03125  18.105743  21.724983  19.915363"
      ]
     },
     "execution_count": 435,
     "metadata": {},
     "output_type": "execute_result"
    },
    {
     "data": {
      "image/png": "[encoded data removed]",
      "text/plain": [
       "<Figure size 432x288 with 1 Axes>"
      ]
     },
     "metadata": {
      "needs_background": "light"
     },
     "output_type": "display_data"
    }
   ],
   "source": [
    "plt.bar(table_hist.med, table_hist.p, h, alpha = 0.4)\n",
    "plt.title(\"Гистограмма относительных частот\")\n",
    "plt.xlabel(\"Xi\")\n",
    "plt.ylabel(\"P\")\n",
    "linex = np.arange(min(data),max(data),0.1)\n",
    "def normal_dist(x, mu, q):\n",
    "    return (1/(q*(2*np.pi)**0.5))*np.exp(-((x-mu)**2)/(2*q**2))\n",
    "def ravnomern_dist(a, b):\n",
    "    return 1/(b-a)\n",
    "def exp_dist(x, lamda):\n",
    "    return lamda * np.exp(-1 * lamda *x)\n",
    "liney1 = normal_dist(linex, Xs1, Qs1)\n",
    "liney2 = ravnomern_dist(min(data), max(data)) + linex*0\n",
    "liney3 = exp_dist(linex, 1/Qs1)\n",
    "plt.plot(linex, liney1, color = '#4B0082', label = \"предп. норм. распр.\")\n",
    "plt.plot(linex, liney2, color = '#DC143C', label = \"предп. равн. распр.\")\n",
    "plt.plot(linex, liney3, color = '#008080', label = \"предп. эксп. распр.\", linewidth = 3)\n",
    "plt.legend()\n",
    "None\n",
    "plt.ylim(0, 1)\n",
    "table_hist"
   ]
  },
  {
   "cell_type": "code",
   "execution_count": 436,
   "id": "a52747d4",
   "metadata": {},
   "outputs": [],
   "source": [
    "def integrate_norm(upper, Mu, Sd):\n",
    "    lower = -1000\n",
    "    h = 0.01\n",
    "    arrx = np.arange(lower, upper, h)\n",
    "    arry = normal_dist(arrx, Mu, Sd)\n",
    "    S = 0\n",
    "    for i in range (len(arrx)):\n",
    "        S+= abs(h*arry[i])\n",
    "    return S\n",
    "def chisq_test_norm(table_hist, mean, sd):\n",
    "    N = sum(table_hist.abs_freq)\n",
    "    pract = table_hist.abs_freq\n",
    "    theor = np.empty(table_hist.shape[0])\n",
    "    for i in range (len(theor)):\n",
    "        theor[i] = N * (integrate_norm(upp[i], mean, sd) - integrate_norm(low[i], mean, sd))\n",
    "    chisq_d = sum((pract-theor)**2/theor)\n",
    "    return chisq_d"
   ]
  },
  {
   "cell_type": "code",
   "execution_count": 437,
   "id": "1cac0afe",
   "metadata": {},
   "outputs": [],
   "source": [
    "def integrate_ravn(lower, upper, a, b):\n",
    "    x = upper - lower\n",
    "    y = 1/(b-a)\n",
    "    return x*y \n",
    "def chisq_test_ravn(table_hist):\n",
    "    N = sum(table_hist['abs_freq'])\n",
    "    pract = table_hist['abs_freq']\n",
    "    theor = np.empty(table_hist.shape[0])\n",
    "    for i in range (len(theor)):\n",
    "        theor[i] = N * integrate_ravn(low[i], upp[i], min(table_hist['med']), max(table_hist['med']))\n",
    "    chisq_d = sum((pract-theor)**2/theor)\n",
    "    return chisq_d"
   ]
  },
  {
   "cell_type": "code",
   "execution_count": 438,
   "id": "0bc42431",
   "metadata": {},
   "outputs": [],
   "source": [
    "def integrate_exp(upper, lamda):\n",
    "    h = 0.01\n",
    "    arrx = np.arange(0, 1000, h)\n",
    "    up = math.ceil(upper*100)\n",
    "    arry = exp_dist(arrx, lamda)\n",
    "    S = 0\n",
    "    for i in range(0, up):\n",
    "        S+=abs(arry[i]*h)\n",
    "    return S\n",
    "def chisq_test_exp(table_hist_e, sd):\n",
    "    N = sum(table_hist_e['abs_freq'])\n",
    "    table_test = pd.DataFrame({'pract': table_hist_e.abs_freq})\n",
    "    table_test['theor'] = 1\n",
    "    for i in range (len(table_test.pract)):\n",
    "        table_test.theor.iloc[i] = N * abs(integrate_exp(table_hist_e.low.iloc[i], sd) - integrate_exp(table_hist_e.upp.iloc[i], sd))\n",
    "    chisq_d = sum((table_test.pract-table_test.theor)**2/table_test.theor)\n",
    "    return chisq_d"
   ]
  },
  {
   "cell_type": "code",
   "execution_count": 439,
   "id": "81d87e83",
   "metadata": {},
   "outputs": [
    {
     "name": "stdout",
     "output_type": "stream",
     "text": [
      "Normal dist - False\n",
      "22.09401599300913 9.348403604496148\n"
     ]
    }
   ],
   "source": [
    "print(\"Normal dist -\", chisq_test_norm(table_hist, Xs1, Qs1) < st1.chi2.ppf(0.975, n_groups-2-1))\n",
    "print(chisq_test_norm(table_hist, Xs1, Qs1), st1.chi2.ppf(0.975, n_groups-2-1))"
   ]
  },
  {
   "cell_type": "code",
   "execution_count": 440,
   "id": "08504855",
   "metadata": {},
   "outputs": [
    {
     "name": "stdout",
     "output_type": "stream",
     "text": [
      "Ravnomern dist - False\n",
      "32.549619897752734 9.348403604496148\n"
     ]
    }
   ],
   "source": [
    "print(\"Ravnomern dist -\", chisq_test_ravn(table_hist) < st1.chi2.ppf(0.975, n_groups - 2-1))\n",
    "print(chisq_test_ravn(table_hist), st1.chi2.ppf(0.975, n_groups-2-1))"
   ]
  },
  {
   "cell_type": "code",
   "execution_count": 441,
   "id": "96ee0773",
   "metadata": {},
   "outputs": [
    {
     "name": "stdout",
     "output_type": "stream",
     "text": [
      "Exponentional dist - True\n",
      "1.2224825970525868 9.348403604496148\n"
     ]
    }
   ],
   "source": [
    "print(\"Exponentional dist -\",chisq_test_exp(table_hist, 1/Qs1) < st1.chi2.ppf(0.975, n_groups-2))\n",
    "print(chisq_test_exp(table_hist, 1/Qs1), st1.chi2.ppf(0.975, n_groups-2-1))"
   ]
  },
  {
   "cell_type": "code",
   "execution_count": 442,
   "id": "1768a0c8",
   "metadata": {},
   "outputs": [
    {
     "data": {
      "text/html": [
       "<div>\n",
       "<style scoped>\n",
       "    .dataframe tbody tr th:only-of-type {\n",
       "        vertical-align: middle;\n",
       "    }\n",
       "\n",
       "    .dataframe tbody tr th {\n",
       "        vertical-align: top;\n",
       "    }\n",
       "\n",
       "    .dataframe thead th {\n",
       "        text-align: right;\n",
       "    }\n",
       "</style>\n",
       "<table border=\"1\" class=\"dataframe\">\n",
       "  <thead>\n",
       "    <tr style=\"text-align: right;\">\n",
       "      <th></th>\n",
       "      <th>med</th>\n",
       "      <th>p</th>\n",
       "      <th>x_norm</th>\n",
       "      <th>y_norm</th>\n",
       "      <th>x_exp</th>\n",
       "      <th>y_exp</th>\n",
       "      <th>x_rav</th>\n",
       "      <th>y_rav</th>\n",
       "    </tr>\n",
       "    <tr>\n",
       "      <th>groups</th>\n",
       "      <th></th>\n",
       "      <th></th>\n",
       "      <th></th>\n",
       "      <th></th>\n",
       "      <th></th>\n",
       "      <th></th>\n",
       "      <th></th>\n",
       "      <th></th>\n",
       "    </tr>\n",
       "  </thead>\n",
       "  <tbody>\n",
       "    <tr>\n",
       "      <th>(0.0129, 3.649]</th>\n",
       "      <td>1.841660</td>\n",
       "      <td>0.53125</td>\n",
       "      <td>10.003924</td>\n",
       "      <td>-0.632523</td>\n",
       "      <td>1.841660</td>\n",
       "      <td>-0.632523</td>\n",
       "      <td>1.841660</td>\n",
       "      <td>0.53125</td>\n",
       "    </tr>\n",
       "    <tr>\n",
       "      <th>(3.649, 7.263]</th>\n",
       "      <td>5.456401</td>\n",
       "      <td>0.25000</td>\n",
       "      <td>0.204162</td>\n",
       "      <td>-1.386294</td>\n",
       "      <td>5.456401</td>\n",
       "      <td>-1.386294</td>\n",
       "      <td>5.456401</td>\n",
       "      <td>0.78125</td>\n",
       "    </tr>\n",
       "    <tr>\n",
       "      <th>(7.263, 10.877]</th>\n",
       "      <td>9.071141</td>\n",
       "      <td>0.12500</td>\n",
       "      <td>16.537099</td>\n",
       "      <td>-2.079442</td>\n",
       "      <td>9.071141</td>\n",
       "      <td>-2.079442</td>\n",
       "      <td>9.071141</td>\n",
       "      <td>0.90625</td>\n",
       "    </tr>\n",
       "    <tr>\n",
       "      <th>(10.877, 14.492]</th>\n",
       "      <td>12.685882</td>\n",
       "      <td>0.03125</td>\n",
       "      <td>59.002735</td>\n",
       "      <td>-3.465736</td>\n",
       "      <td>12.685882</td>\n",
       "      <td>-3.465736</td>\n",
       "      <td>12.685882</td>\n",
       "      <td>0.93750</td>\n",
       "    </tr>\n",
       "    <tr>\n",
       "      <th>(14.492, 18.106]</th>\n",
       "      <td>16.300622</td>\n",
       "      <td>0.03125</td>\n",
       "      <td>127.601070</td>\n",
       "      <td>-3.465736</td>\n",
       "      <td>16.300622</td>\n",
       "      <td>-3.465736</td>\n",
       "      <td>16.300622</td>\n",
       "      <td>0.96875</td>\n",
       "    </tr>\n",
       "    <tr>\n",
       "      <th>(18.106, 21.72]</th>\n",
       "      <td>19.915363</td>\n",
       "      <td>0.03125</td>\n",
       "      <td>222.332104</td>\n",
       "      <td>-3.465736</td>\n",
       "      <td>19.915363</td>\n",
       "      <td>-3.465736</td>\n",
       "      <td>19.915363</td>\n",
       "      <td>1.00000</td>\n",
       "    </tr>\n",
       "  </tbody>\n",
       "</table>\n",
       "</div>"
      ],
      "text/plain": [
       "                        med        p      x_norm    y_norm      x_exp  \\\n",
       "groups                                                                  \n",
       "(0.0129, 3.649]    1.841660  0.53125   10.003924 -0.632523   1.841660   \n",
       "(3.649, 7.263]     5.456401  0.25000    0.204162 -1.386294   5.456401   \n",
       "(7.263, 10.877]    9.071141  0.12500   16.537099 -2.079442   9.071141   \n",
       "(10.877, 14.492]  12.685882  0.03125   59.002735 -3.465736  12.685882   \n",
       "(14.492, 18.106]  16.300622  0.03125  127.601070 -3.465736  16.300622   \n",
       "(18.106, 21.72]   19.915363  0.03125  222.332104 -3.465736  19.915363   \n",
       "\n",
       "                     y_exp      x_rav    y_rav  \n",
       "groups                                          \n",
       "(0.0129, 3.649]  -0.632523   1.841660  0.53125  \n",
       "(3.649, 7.263]   -1.386294   5.456401  0.78125  \n",
       "(7.263, 10.877]  -2.079442   9.071141  0.90625  \n",
       "(10.877, 14.492] -3.465736  12.685882  0.93750  \n",
       "(14.492, 18.106] -3.465736  16.300622  0.96875  \n",
       "(18.106, 21.72]  -3.465736  19.915363  1.00000  "
      ]
     },
     "execution_count": 442,
     "metadata": {},
     "output_type": "execute_result"
    },
    {
     "data": {
      "image/png": "[encoded data removed]",
      "text/plain": [
       "<Figure size 432x288 with 1 Axes>"
      ]
     },
     "metadata": {
      "needs_background": "light"
     },
     "output_type": "display_data"
    }
   ],
   "source": [
    "table_anam = pd.DataFrame({'med': table_hist.med, 'p':table_hist.p })\n",
    "table_anam[\"p\"] = table_anam[\"p\"].replace(0, np.nan).bfill()\n",
    "plt.plot(table_hist.med, table_hist.p)\n",
    "table_anam['x_norm'] = (table_anam.med - Xs2)**2\n",
    "table_anam['y_norm'] = np.log(table_anam.p)\n",
    "table_anam['x_exp'] = table_hist['med']\n",
    "table_anam['y_exp'] = np.log(table_anam['p'])\n",
    "table_anam['x_rav'] = table_anam.med\n",
    "table_anam['y_rav'] = np.cumsum(table_anam['p'])\n",
    "table_anam.fillna(method = \"bfill\", inplace=True) \n",
    "plt.plot(table_hist.med, table_hist.p)\n",
    "x = np.array(table_anam['x_exp']).reshape(-1, 1)\n",
    "table_anam"
   ]
  },
  {
   "cell_type": "code",
   "execution_count": 443,
   "id": "ba0736a5",
   "metadata": {},
   "outputs": [
    {
     "name": "stdout",
     "output_type": "stream",
     "text": [
      "R^2 = 0.566439348949761\n"
     ]
    },
    {
     "data": {
      "image/png": "[encoded data removed]",
      "text/plain": [
       "<Figure size 432x288 with 1 Axes>"
      ]
     },
     "metadata": {
      "needs_background": "light"
     },
     "output_type": "display_data"
    }
   ],
   "source": [
    "x = np.array(table_anam['x_norm']).reshape(-1, 1)\n",
    "linear_model = LinearRegression()\n",
    "linear_model.fit(x, table_anam.y_norm)\n",
    "a =linear_model.intercept_\n",
    "b =linear_model.coef_\n",
    "qw = np.arange(min(x), max(x), 0.1)\n",
    "qwe = qw*b+a\n",
    "plt.plot(qw, qwe)\n",
    "plt.plot(table_anam.x_norm, table_anam.y_norm, c = \"red\") \n",
    "plt.scatter(table_anam.x_norm, table_anam.y_norm, c = \"red\")\n",
    "None\n",
    "print(\"R^2 =\", linear_model.score(x, table_anam.y_norm))"
   ]
  },
  {
   "cell_type": "code",
   "execution_count": 444,
   "id": "23a9a22f",
   "metadata": {},
   "outputs": [
    {
     "name": "stdout",
     "output_type": "stream",
     "text": [
      "R^2 = 0.885531505559499\n"
     ]
    },
    {
     "data": {
      "image/png": "[encoded data removed]",
      "text/plain": [
       "<Figure size 432x288 with 1 Axes>"
      ]
     },
     "metadata": {
      "needs_background": "light"
     },
     "output_type": "display_data"
    }
   ],
   "source": [
    "x = np.array(table_anam['x_exp']).reshape(-1, 1)\n",
    "linear_model = LinearRegression()\n",
    "linear_model.fit(x, table_anam.y_exp)\n",
    "a =linear_model.intercept_\n",
    "b =linear_model.coef_\n",
    "qw = np.arange(min(x), max(x), 0.1)\n",
    "qwe = qw*b+a\n",
    "plt.plot(qw, qwe)\n",
    "plt.plot(table_anam.x_exp, table_anam.y_exp, c = \"red\") \n",
    "plt.scatter(table_anam.x_exp, table_anam.y_exp, c = \"red\")\n",
    "None\n",
    "print(\"R^2 =\", linear_model.score(x, table_anam.y_exp))"
   ]
  },
  {
   "cell_type": "code",
   "execution_count": 445,
   "id": "159c970c",
   "metadata": {},
   "outputs": [
    {
     "name": "stdout",
     "output_type": "stream",
     "text": [
      "R^2 = 0.8023002421307508\n"
     ]
    },
    {
     "data": {
      "image/png": "[encoded data removed]",
      "text/plain": [
       "<Figure size 432x288 with 1 Axes>"
      ]
     },
     "metadata": {
      "needs_background": "light"
     },
     "output_type": "display_data"
    }
   ],
   "source": [
    "x = np.array(table_anam['x_rav']).reshape(-1, 1)\n",
    "linear_model = LinearRegression()\n",
    "linear_model.fit(x, table_anam.y_rav)\n",
    "a =linear_model.intercept_\n",
    "b =linear_model.coef_\n",
    "qw = np.arange(min(x), max(x), 0.1)\n",
    "qwe = qw*b+a\n",
    "plt.plot(qw, qwe)\n",
    "plt.plot(table_anam.x_rav, table_anam.y_rav, c = \"red\") \n",
    "plt.scatter(table_anam.x_rav, table_anam.y_rav, c = \"red\")\n",
    "None\n",
    "print(\"R^2 =\", linear_model.score(x, table_anam.y_rav))"
   ]
  },
  {
   "cell_type": "code",
   "execution_count": null,
   "id": "f804c6d8",
   "metadata": {},
   "outputs": [],
   "source": []
  },
  {
   "cell_type": "code",
   "execution_count": null,
   "id": "61e01601",
   "metadata": {},
   "outputs": [],
   "source": []
  },
  {
   "cell_type": "code",
   "execution_count": null,
   "id": "8e4f53aa",
   "metadata": {},
   "outputs": [],
   "source": []
  }
 ],
 "metadata": {
  "kernelspec": {
   "display_name": "Python 3 (ipykernel)",
   "language": "python",
   "name": "python3"
  },
  "language_info": {
   "codemirror_mode": {
    "name": "ipython",
    "version": 3
   },
   "file_extension": ".py",
   "mimetype": "text/x-python",
   "name": "python",
   "nbconvert_exporter": "python",
   "pygments_lexer": "ipython3",
   "version": "3.9.12"
  }
 },
 "nbformat": 4,
 "nbformat_minor": 5
}
